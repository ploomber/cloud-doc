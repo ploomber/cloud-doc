{
 "cells": [
  {
   "cell_type": "code",
   "execution_count": null,
   "metadata": {},
   "outputs": [],
   "source": [
    "from haystack import Pipeline\n",
    "from haystack.document_stores.in_memory import InMemoryDocumentStore\n",
    "from haystack.components.fetchers import LinkContentFetcher\n",
    "from haystack.components.converters import HTMLToDocument\n",
    "from haystack.components.preprocessors import DocumentSplitter\n",
    "from haystack.components.embedders import SentenceTransformersDocumentEmbedder\n",
    "from haystack.components.writers import DocumentWriter\n",
    "\n",
    "\n",
    "document_store = InMemoryDocumentStore()\n",
    "\n",
    "link_fetcher = LinkContentFetcher()\n",
    "converter = HTMLToDocument()\n",
    "splitter = DocumentSplitter(split_length=100, split_overlap=5)\n",
    "embedder = SentenceTransformersDocumentEmbedder()\n",
    "writer = DocumentWriter(document_store=document_store)\n",
    "\n",
    "indexing_pipeline = Pipeline()\n",
    "indexing_pipeline.add_component(\"link_fetcher\", link_fetcher)\n",
    "indexing_pipeline.add_component(\"converter\", converter)\n",
    "indexing_pipeline.add_component(\"splitter\", splitter)\n",
    "indexing_pipeline.add_component(\"embedder\", embedder)\n",
    "indexing_pipeline.add_component(\"writer\", writer)\n",
    "\n",
    "indexing_pipeline.connect(\"link_fetcher\", \"converter\")\n",
    "indexing_pipeline.connect(\"converter\", \"splitter\")\n",
    "indexing_pipeline.connect(\"splitter\", \"embedder\")\n",
    "indexing_pipeline.connect(\"embedder\", \"writer\")"
   ]
  },
  {
   "cell_type": "markdown",
   "metadata": {},
   "source": [
    "Start\n",
    "|\n",
    "|--- Extraversion (E) – Introversion (I)\n",
    "|    |--- Do you feel more energized when surrounded by people? (E)\n",
    "|    |--- Do you often find solitude more refreshing than social gatherings? (I)\n",
    "|    |--- When faced with a problem, do you prefer discussing it with others? (E)\n",
    "|    |--- Do you tend to process your thoughts internally before you speak? (I)\n",
    "|    |--- At parties, do you initiate conversations with new people? (E)\n",
    "|    |--- Do you prefer spending weekends quietly at home rather than going out? (I)\n",
    "|\n",
    "|--- Sensing (S) – Intuition (N)\n",
    "|    |--- Do you focus more on the details and facts of your immediate surroundings? (S)\n",
    "|    |--- Are you more interested in exploring abstract theories and future possibilities? (N)\n",
    "|    |--- In learning something new, do you prefer hands-on experience over theory? (S)\n",
    "|    |--- Do you often think about how actions today will affect the future? (N)\n",
    "|    |--- When planning a vacation, do you prefer having a detailed itinerary? (S)\n",
    "|    |--- Do you enjoy discussing symbolic or metaphorical interpretations of a story? (N)\n",
    "|\n",
    "|--- Thinking (T) – Feeling (F)\n",
    "|    |--- When making decisions, do you prioritize logic over personal considerations? (T)\n",
    "|    |--- Are your decisions often influenced by how they will affect others emotionally? (F)\n",
    "|    |--- In arguments, do you focus more on being rational than on people's feelings? (T)\n",
    "|    |--- Do you strive to maintain harmony in group settings, even if it means compromising? (F)\n",
    "|    |--- Do you often rely on objective criteria to assess situations? (T)\n",
    "|    |--- When a friend is upset, is your first instinct to offer emotional support rather than solutions? (F)\n",
    "|\n",
    "|--- Judging (J) – Perceiving (P)\n",
    "     |--- Do you prefer to have a clear plan and dislike unexpected changes? (J)\n",
    "     |--- Are you comfortable adapting to new situations as they happen? (P)\n",
    "     |--- Do you set and stick to deadlines easily? (J)\n",
    "     |--- Do you enjoy being spontaneous and keeping your options open? (P)\n",
    "     |--- Do you find satisfaction in completing tasks and finalizing decisions? (J)\n",
    "     |--- Do you prefer exploring various options before making a decision? (P)\n"
   ]
  },
  {
   "cell_type": "code",
   "execution_count": 2,
   "metadata": {},
   "outputs": [],
   "source": [
    "mbti_urls = [\"https://www.verywellmind.com/istj-introversion-sensing-thinking-judgment-2795992\", \n",
    "             \"https://www.verywellmind.com/istp-introverted-sensing-thinking-perceiving-2795993\",\n",
    "             \"https://www.verywellmind.com/isfj-introverted-sensing-feeling-judging-2795990\",\n",
    "             'https://www.verywellmind.com/isfp-introverted-sensing-feeling-perceiving-2795991',\n",
    "             'https://www.verywellmind.com/infj-introverted-intuitive-feeling-judging-2795978',\n",
    "             'https://www.verywellmind.com/infp-a-profile-of-the-idealist-personality-type-2795987',\n",
    "             'https://www.verywellmind.com/intj-introverted-intuitive-thinking-judging-2795988',\n",
    "             'https://www.verywellmind.com/intp-introverted-intuitive-thinking-perceiving-2795989',\n",
    "             'https://www.verywellmind.com/estp-extraverted-sensing-thinking-perceiving-2795986',\n",
    "             'https://www.verywellmind.com/estj-extraverted-sensing-thinking-judging-2795985',\n",
    "             'https://www.verywellmind.com/esfp-extraverted-sensing-feeling-perceiving-2795984',\n",
    "             'https://www.verywellmind.com/esfj-extraverted-sensing-feeling-judging-2795983',\n",
    "             'https://www.verywellmind.com/enfp-an-overview-of-the-champion-personality-type-2795980',\n",
    "             'https://www.verywellmind.com/enfj-extraverted-intuitive-feeling-judging-2795979',\n",
    "             'https://www.verywellmind.com/the-entp-personality-type-and-characteristics-2795982',\n",
    "             'https://www.verywellmind.com/entj-personality-type-2795981']\n",
    "indexing_pipeline.run(data={\"link_fetcher\":{\"urls\": mbti_urls}})"
   ]
  },
  {
   "cell_type": "code",
   "execution_count": null,
   "metadata": {},
   "outputs": [],
   "source": [
    "questions = [\n",
    "    {\"content\": \"Do you feel more energized when surrounded by people?\", \"trait\": \"E\"},\n",
    "    {\"content\": \"Do you often find solitude more refreshing than social gatherings?\", \"trait\": \"I\"},\n",
    "    {\"content\": \"When faced with a problem, do you prefer discussing it with others?\", \"trait\": \"E\"},\n",
    "    {\"content\": \"Do you tend to process your thoughts internally before you speak?\", \"trait\": \"I\"},\n",
    "    {\"content\": \"At parties, do you initiate conversations with new people?\", \"trait\": \"E\"},\n",
    "    {\"content\": \"Do you prefer spending weekends quietly at home rather than going out?\", \"trait\": \"I\"},\n",
    "    {\"content\": \"Do you focus more on the details and facts of your immediate surroundings?\", \"trait\": \"S\"},\n",
    "    {\"content\": \"Are you more interested in exploring abstract theories and future possibilities?\", \"trait\": \"N\"},\n",
    "    {\"content\": \"In learning something new, do you prefer hands-on experience over theory?\", \"trait\": \"S\"},\n",
    "    {\"content\": \"Do you often think about how actions today will affect the future?\", \"trait\": \"N\"},\n",
    "    {\"content\": \"When planning a vacation, do you prefer having a detailed itinerary?\", \"trait\": \"S\"},\n",
    "    {\"content\": \"Do you enjoy discussing symbolic or metaphorical interpretations of a story?\", \"trait\": \"N\"},\n",
    "    {\"content\": \"When making decisions, do you prioritize logic over personal considerations?\", \"trait\": \"T\"},\n",
    "    {\"content\": \"Are your decisions often influenced by how they will affect others emotionally?\", \"trait\": \"F\"},\n",
    "    {\"content\": \"In arguments, do you focus more on being rational than on people's feelings?\", \"trait\": \"T\"},\n",
    "    {\"content\": \"Do you strive to maintain harmony in group settings, even if it means compromising?\", \"trait\": \"F\"},\n",
    "    {\"content\": \"Do you often rely on objective criteria to assess situations?\", \"trait\": \"T\"},\n",
    "    {\"content\": \"When a friend is upset, is your first instinct to offer emotional support rather than solutions?\", \"trait\": \"F\"},\n",
    "    {\"content\": \"Do you prefer to have a clear plan and dislike unexpected changes?\", \"trait\": \"J\"},\n",
    "    {\"content\": \"Are you comfortable adapting to new situations as they happen?\", \"trait\": \"P\"},\n",
    "    {\"content\": \"Do you set and stick to deadlines easily?\", \"trait\": \"J\"},\n",
    "    {\"content\": \"Do you enjoy being spontaneous and keeping your options open?\", \"trait\": \"P\"},\n",
    "    {\"content\": \"Do you find satisfaction in completing tasks and finalizing decisions?\", \"trait\": \"J\"},\n",
    "    {\"content\": \"Do you prefer exploring various options before making a decision?\", \"trait\": \"P\"},\n",
    "]\n",
    "\n",
    "# Example usage\n",
    "responses = ['No', 'Yes', 'No', 'Yes', 'No', 'No', 'Yes', 'No', 'Yes', 'No', 'Yes', 'No', \n",
    "             'Yes', 'No', 'Yes', 'No', 'Yes', 'No', 'Yes', 'No', 'Yes', 'No', 'Yes', 'No']\n",
    "\n"
   ]
  },
  {
   "cell_type": "code",
   "execution_count": null,
   "metadata": {},
   "outputs": [],
   "source": [
    "for i, question in enumerate(questions):\n",
    "    question['meta'] = {\n",
    "        'trait': question['trait'],\n",
    "        'answer': responses[i]\n",
    "    }\n",
    "\n"
   ]
  },
  {
   "cell_type": "code",
   "execution_count": null,
   "metadata": {},
   "outputs": [],
   "source": [
    "from haystack import Document\n",
    "\n",
    "documents = [Document(content = question['content'],\\\n",
    "                        meta = question['meta']) for question in questions]\n",
    "\n",
    "document_store.write_documents(documents)"
   ]
  },
  {
   "cell_type": "code",
   "execution_count": null,
   "metadata": {},
   "outputs": [],
   "source": [
    "document_store.filter_documents()"
   ]
  },
  {
   "cell_type": "code",
   "execution_count": null,
   "metadata": {},
   "outputs": [],
   "source": []
  }
 ],
 "metadata": {
  "kernelspec": {
   "display_name": "rag-video",
   "language": "python",
   "name": "python3"
  },
  "language_info": {
   "codemirror_mode": {
    "name": "ipython",
    "version": 3
   },
   "file_extension": ".py",
   "mimetype": "text/x-python",
   "name": "python",
   "nbconvert_exporter": "python",
   "pygments_lexer": "ipython3",
   "version": "3.10.0"
  }
 },
 "nbformat": 4,
 "nbformat_minor": 2
}
