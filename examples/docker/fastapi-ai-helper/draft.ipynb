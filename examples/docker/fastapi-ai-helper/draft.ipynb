{
 "cells": [
  {
   "cell_type": "code",
   "execution_count": 16,
   "metadata": {},
   "outputs": [],
   "source": [
    "from haystack.dataclasses import Document\n",
    "import pandas as pd\n",
    "\n",
    "from haystack import Pipeline\n",
    "from haystack.document_stores.in_memory import InMemoryDocumentStore\n",
    "from haystack.components.embedders import SentenceTransformersDocumentEmbedder\n",
    "from haystack.components.writers import DocumentWriter\n",
    "\n",
    "from haystack.components.embedders import SentenceTransformersTextEmbedder\n",
    "from haystack.components.retrievers.in_memory import InMemoryEmbeddingRetriever\n",
    "from haystack.components.builders.prompt_builder import PromptBuilder\n",
    "from haystack.components.generators import GPTGenerator\n",
    "\n",
    "from dotenv import load_dotenv\n",
    "import os\n"
   ]
  },
  {
   "cell_type": "code",
   "execution_count": 17,
   "metadata": {},
   "outputs": [],
   "source": [
    "load_dotenv(\".env\")\n",
    "openai_key = os.getenv(\"OPENAI_KEY\")"
   ]
  },
  {
   "cell_type": "code",
   "execution_count": 8,
   "metadata": {},
   "outputs": [],
   "source": [
    "# Source https://www.kaggle.com/datasets/carrie1/ecommerce-data?resource=download\n",
    "df = pd.read_csv(\"data.csv\", encoding='latin1')\n",
    "\n",
    "# Drop rows with empty CustomerID\n",
    "df.dropna(subset=['CustomerID'], inplace=True)"
   ]
  },
  {
   "cell_type": "code",
   "execution_count": null,
   "metadata": {},
   "outputs": [],
   "source": [
    "df_dict = df.to_dict(\"records\")"
   ]
  },
  {
   "cell_type": "code",
   "execution_count": 9,
   "metadata": {},
   "outputs": [],
   "source": [
    "haystack_documents = []\n",
    "\n",
    "# Create a list of Haystack documents\n",
    "for i in range(len(df_dict)):\n",
    "    haystack_documents.append(Document(\n",
    "        content=df_dict[i][\"Description\"],\n",
    "        meta={\n",
    "            \"InvoiceNo\": df_dict[i][\"InvoiceNo\"],\n",
    "            \"StockCode\": df_dict[i][\"StockCode\"],\n",
    "            \"Description\": df_dict[i][\"Description\"],\n",
    "            \"Quantity\": df_dict[i][\"Quantity\"],\n",
    "            \"InvoiceDate\": df_dict[i][\"InvoiceDate\"],\n",
    "            \"UnitPrice\": df_dict[i][\"UnitPrice\"],\n",
    "            \"CustomerID\": df_dict[i][\"CustomerID\"],\n",
    "            \"Country\": df_dict[i][\"Country\"],\n",
    "        },\n",
    "    ))"
   ]
  },
  {
   "cell_type": "code",
   "execution_count": 10,
   "metadata": {},
   "outputs": [],
   "source": [
    "document_store = InMemoryDocumentStore()\n",
    "\n",
    "embedder = SentenceTransformersDocumentEmbedder()\n",
    "writer = DocumentWriter(document_store=document_store)\n",
    "\n",
    "indexing_pipeline = Pipeline()\n",
    "indexing_pipeline.add_component(\"embedder\", embedder)\n",
    "indexing_pipeline.add_component(\"writer\", writer)\n",
    "\n",
    "indexing_pipeline.connect(\"embedder\", \"writer\")"
   ]
  },
  {
   "cell_type": "code",
   "execution_count": 12,
   "metadata": {},
   "outputs": [
    {
     "name": "stderr",
     "output_type": "stream",
     "text": [
      "Batches: 100%|██████████| 4/4 [00:04<00:00,  1.00s/it]\n"
     ]
    },
    {
     "data": {
      "text/plain": [
       "{'writer': {'documents_written': 100}}"
      ]
     },
     "execution_count": 12,
     "metadata": {},
     "output_type": "execute_result"
    }
   ],
   "source": [
    "indexing_pipeline.run(data={\"embedder\": {\"documents\": haystack_documents[:100]}})\n"
   ]
  },
  {
   "cell_type": "code",
   "execution_count": 18,
   "metadata": {},
   "outputs": [
    {
     "data": {
      "text/plain": [
       "Document(id=7dc70d50b246194a881dfc297dff3064bea3ecafdfc964c45b99336fd75f57ba, content: 'WHITE HANGING HEART T-LIGHT HOLDER', meta: {'InvoiceNo': '536365', 'StockCode': '85123A', 'Description': 'WHITE HANGING HEART T-LIGHT HOLDER', 'Quantity': 6, 'InvoiceDate': '12/1/2010 8:26', 'UnitPrice': 2.55, 'CustomerID': 17850.0, 'Country': 'United Kingdom'}, embedding: vector of size 768)"
      ]
     },
     "execution_count": 18,
     "metadata": {},
     "output_type": "execute_result"
    }
   ],
   "source": [
    "document_store.filter_documents()[0]"
   ]
  },
  {
   "cell_type": "code",
   "execution_count": 19,
   "metadata": {},
   "outputs": [
    {
     "name": "stderr",
     "output_type": "stream",
     "text": [
      "/Users/macpro/anaconda3/envs/aihelperapi/lib/python3.10/site-packages/haystack/core/component/component.py:120: UserWarning: GPTGenerator is deprecated and will be removed in the next beta release. Please use OpenAIGenerator instead.\n",
      "  instance = super().__call__(*args, **kwargs)\n"
     ]
    }
   ],
   "source": [
    "\n",
    "\n",
    "######## Complete this section #############\n",
    "prompt_template = \"\"\"\n",
    "You are a helpful assistant who helps customers and employees with their questions about purchases.\n",
    "You use the information provided in the documents to answer the questions.\n",
    "You can answer the following types of questions:\n",
    "Questions regarding the order: you require the invoice number.\n",
    "Questions regarding the product: you require the stock code.\n",
    "If the documents do not contain the answer to the question, say that ‘Answer is unknown.’\n",
    "Context:\n",
    "{% for doc in documents %}\n",
    "    Document: {{ doc.content }} \n",
    "    Invoice Number: {{ doc.meta['InvoiceNo'] }} \n",
    "    Stock Code: {{doc.meta['StockCode']}}\n",
    "    Quantity purchased: {{doc.meta['Quantity']}}\n",
    "    Date of purchase: {{doc.meta['InvoiceDate']}}\n",
    "    Price per item: {{doc.meta['UnitPrice']}} \\n\n",
    "{% endfor %};\n",
    "Question: {{query}}\n",
    "\\n Answer:\n",
    "\"\"\"\n",
    "prompt_builder = PromptBuilder(prompt_template)\n",
    "############################################\n",
    "query_embedder = SentenceTransformersTextEmbedder()\n",
    "retriever = InMemoryEmbeddingRetriever(document_store=document_store, top_k=2)\n",
    "llm = GPTGenerator(api_key=openai_key)"
   ]
  },
  {
   "cell_type": "code",
   "execution_count": null,
   "metadata": {},
   "outputs": [],
   "source": [
    "query = \"How do I use the openai embedder?\"\n",
    "result = pipeline.run(data={\"query_embedder\": {\"text\": query}, \"prompt_builder\": {\"query\": query}})\n",
    "print(result['llm']['replies'][0])"
   ]
  }
 ],
 "metadata": {
  "kernelspec": {
   "display_name": "rag-video",
   "language": "python",
   "name": "python3"
  },
  "language_info": {
   "codemirror_mode": {
    "name": "ipython",
    "version": 3
   },
   "file_extension": ".py",
   "mimetype": "text/x-python",
   "name": "python",
   "nbconvert_exporter": "python",
   "pygments_lexer": "ipython3",
   "version": "3.10.13"
  }
 },
 "nbformat": 4,
 "nbformat_minor": 2
}
