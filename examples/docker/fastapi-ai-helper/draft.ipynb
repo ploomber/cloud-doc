{
 "cells": [
  {
   "cell_type": "code",
   "execution_count": null,
   "metadata": {},
   "outputs": [],
   "source": [
    "from haystack.dataclasses import Document\n",
    "import pandas as pd\n",
    "\n",
    "from haystack import Pipeline\n",
    "from haystack.document_stores.in_memory import InMemoryDocumentStore\n",
    "from haystack.components.embedders import SentenceTransformersDocumentEmbedder\n",
    "from haystack.components.writers import DocumentWriter\n",
    "\n",
    "from haystack.components.embedders import SentenceTransformersTextEmbedder\n",
    "from haystack.components.retrievers.in_memory import InMemoryEmbeddingRetriever\n",
    "from haystack.components.builders.prompt_builder import PromptBuilder\n",
    "from haystack.components.generators import GPTGenerator\n",
    "\n",
    "from haystack.components.retrievers.in_memory import InMemoryBM25Retriever\n",
    "\n",
    "\n",
    "from dotenv import load_dotenv\n",
    "import os\n"
   ]
  },
  {
   "cell_type": "code",
   "execution_count": null,
   "metadata": {},
   "outputs": [],
   "source": [
    "load_dotenv(\".env\")\n",
    "openai_key = os.getenv(\"OPENAI_KEY\")"
   ]
  },
  {
   "cell_type": "code",
   "execution_count": null,
   "metadata": {},
   "outputs": [],
   "source": [
    "# Source https://www.kaggle.com/datasets/carrie1/ecommerce-data?resource=download\n",
    "df = pd.read_csv(\"data.csv\", encoding='latin1')\n",
    "\n",
    "# Drop rows with empty CustomerID\n",
    "df.dropna(subset=['CustomerID'], inplace=True)\n",
    "\n",
    "# rename columns to all lower case\n",
    "df.columns = [x.lower() for x in df.columns]\n",
    "\n",
    "# Save df to dict\n",
    "df_dict = df.to_dict(\"records\")"
   ]
  },
  {
   "cell_type": "code",
   "execution_count": null,
   "metadata": {},
   "outputs": [],
   "source": [
    "df['country'].unique()"
   ]
  },
  {
   "cell_type": "code",
   "execution_count": null,
   "metadata": {},
   "outputs": [],
   "source": [
    "haystack_documents = []\n",
    "\n",
    "# Create a list of Haystack documents\n",
    "for i in range(len(df_dict)):\n",
    "    content_str = f\"Name of item purchased: {df_dict[i]['description']}; \\\n",
    "        Quantity purchased: {df_dict[i]['quantity']}; \\\n",
    "        Price of item: {df_dict[i]['unitprice']}; \\\n",
    "        Date of purchase: {df_dict[i]['invoicedate']}; \\\n",
    "        Country of purchase: {df_dict[i]['country']}; \\\n",
    "        Customer ID: {df_dict[i]['customerid']}; \\\n",
    "        Invoice Number: {df_dict[i]['invoiceno']}; \\\n",
    "        Stock Code: {df_dict[i]['stockcode']};\" ,\n",
    "    haystack_documents.append(Document(\n",
    "        content=content_str[0],\n",
    "        id = f\"ZOOA{str(1000000 + i)}\",\n",
    "        meta={\n",
    "            \"invoiceno\": df_dict[i][\"invoiceno\"],\n",
    "            \"stockcode\": df_dict[i][\"stockcode\"],\n",
    "            \"description\": df_dict[i][\"description\"],\n",
    "            \"quantity\": df_dict[i][\"quantity\"],\n",
    "            \"invoicedate\": df_dict[i][\"invoicedate\"],\n",
    "            \"unitprice\": df_dict[i][\"unitprice\"],\n",
    "            \"customerid\": df_dict[i][\"customerid\"],\n",
    "            \"country\": df_dict[i][\"country\"],\n",
    "        },\n",
    "    ))"
   ]
  },
  {
   "cell_type": "code",
   "execution_count": null,
   "metadata": {},
   "outputs": [],
   "source": [
    "haystack_documents[0].content"
   ]
  },
  {
   "cell_type": "code",
   "execution_count": null,
   "metadata": {},
   "outputs": [],
   "source": [
    "document_store = InMemoryDocumentStore(bm25_algorithm=\"BM25Plus\")\n",
    "document_store.write_documents(documents=haystack_documents)"
   ]
  },
  {
   "cell_type": "code",
   "execution_count": null,
   "metadata": {},
   "outputs": [],
   "source": [
    "document_store.filter_documents()[0]"
   ]
  },
  {
   "cell_type": "code",
   "execution_count": null,
   "metadata": {},
   "outputs": [],
   "source": [
    "\n",
    "\n",
    "######## Complete this section #############\n",
    "prompt_template = \"\"\"\n",
    "You are an expert data analyst who helps customers and employees with their questions about purchases and products.\n",
    "You use the information provided in the documents to answer the questions.\n",
    "You can answer the following types of questions:\n",
    "Questions regarding the order: please ask the user to give you the invoice number.\n",
    "Questions regarding the product: please ask the user to give you the stock code.\n",
    "Questions regarding purchases made on a given day: please ask the user to give you the date of purchase.\n",
    "If you are asked to calculate the total price of a purchase, please ask the user to give you the invoice \n",
    "number and add the total price of the items in the purchase. Outline the item name, number of items and cost per unit in your response. \n",
    "If you are asked to calculate the total number of items for a purchase, please ask the user to give \n",
    "you the invoice number and add the total number of items in the purchase. Outline the item name and number of items in your response.\n",
    "If the invoiceno starts with C and the total number of items is negative,it means the items were returned. You should indicate this clearly in your answer.\n",
    "If the documents do not contain the answer to the question, say that ‘Answer is unknown.’\n",
    "Context:\n",
    "{% for doc in documents %}\n",
    "    Purchase information: {{ doc.content }} \n",
    "    Invoice Number: {{ doc.meta['invoiceno'] }} \n",
    "    Stock Code: {{doc.meta['stockcode']}}\n",
    "    Quantity purchased: {{doc.meta['quantity']}}\n",
    "    Date of purchase: {{doc.meta['invoicedate']}}\n",
    "    Price per item: {{doc.meta['unitprice']}} \\n\n",
    "{% endfor %};\n",
    "Question: {{query}}\n",
    "\\n Answer:\n",
    "\"\"\"\n",
    "prompt_builder = PromptBuilder(prompt_template)\n",
    "retriever = InMemoryBM25Retriever(document_store=document_store)\n",
    "############################################\n",
    "llm = GPTGenerator(api_key=openai_key, \n",
    "                   generation_kwargs={\"temperature\": 0},\n",
    "                   model='gpt-4')\n",
    "\n",
    "prediction_pipeline = Pipeline()\n",
    "prediction_pipeline.add_component(\"retriever\", retriever)\n",
    "prediction_pipeline.add_component(\"prompt_builder\", prompt_builder)\n",
    "prediction_pipeline.add_component(\"generator\", llm)\n",
    "\n",
    "prediction_pipeline.connect(\"retriever.documents\", \"prompt_builder.documents\")\n",
    "prediction_pipeline.connect(\"prompt_builder\", \"generator\")\n"
   ]
  },
  {
   "cell_type": "code",
   "execution_count": null,
   "metadata": {},
   "outputs": [],
   "source": [
    "query = \"Items for order with invoice number 536365\"\n",
    "result = prediction_pipeline.run(data={\"retriever\": {\"query\": query}, \n",
    "                                       \"prompt_builder\": {\"query\": query},\n",
    "                                       })\n",
    "print(result['generator']['replies'][0])"
   ]
  },
  {
   "cell_type": "code",
   "execution_count": null,
   "metadata": {},
   "outputs": [],
   "source": [
    "query = \"Total number of items purchased for order C536825\"\n",
    "result = prediction_pipeline.run(data={\"retriever\": {\"query\": query}, \n",
    "                                       \"prompt_builder\": {\"query\": query},\n",
    "                                       })\n",
    "print(result['generator']['replies'][0])"
   ]
  },
  {
   "cell_type": "code",
   "execution_count": null,
   "metadata": {},
   "outputs": [],
   "source": [
    "query = \"Total cost for order C536825\"\n",
    "result = prediction_pipeline.run(data={\"retriever\": {\"query\": query}, \n",
    "                                       \"prompt_builder\": {\"query\": query},\n",
    "                                       })\n",
    "print(result['generator']['replies'][0])"
   ]
  },
  {
   "cell_type": "code",
   "execution_count": null,
   "metadata": {},
   "outputs": [],
   "source": [
    "df.groupby(['invoiceno'])['quantity'].sum()"
   ]
  },
  {
   "cell_type": "code",
   "execution_count": null,
   "metadata": {},
   "outputs": [],
   "source": [
    "[item for item in df[df['quantity']<0]['invoiceno'].unique() if \"C\" in item]"
   ]
  },
  {
   "cell_type": "code",
   "execution_count": null,
   "metadata": {},
   "outputs": [],
   "source": [
    "df[df['invoiceno']=='536365']['quantity'].sum()"
   ]
  },
  {
   "cell_type": "code",
   "execution_count": null,
   "metadata": {},
   "outputs": [],
   "source": [
    "(df[df['invoiceno']=='536365']['quantity']*df[df['invoiceno']=='536365']['unitprice']).sum()"
   ]
  },
  {
   "cell_type": "code",
   "execution_count": null,
   "metadata": {},
   "outputs": [],
   "source": [
    "df[df['stockcode']=='84406B']['invoicedate'].unique()"
   ]
  },
  {
   "cell_type": "code",
   "execution_count": null,
   "metadata": {},
   "outputs": [],
   "source": [
    "\n",
    "pipeline = Pipeline()\n",
    "pipeline.add_component(instance=InMemoryBM25Retriever(document_store=document_store), name=\"retriever\")"
   ]
  },
  {
   "cell_type": "code",
   "execution_count": null,
   "metadata": {},
   "outputs": [],
   "source": [
    "query = \"Names of items purchased\"\n",
    "result = pipeline.run(data={\"retriever\": {\"query\": query, \n",
    "                                          \"filters\": {  \"field\": \"meta.invoiceno\", \"operator\": \"==\", \"value\": \"536365\"}}})"
   ]
  },
  {
   "cell_type": "code",
   "execution_count": null,
   "metadata": {},
   "outputs": [],
   "source": [
    "print(result)"
   ]
  },
  {
   "cell_type": "code",
   "execution_count": null,
   "metadata": {},
   "outputs": [],
   "source": [
    "document_store.filter_documents(filters={\"meta.invoiceno\": [\"536365\"]})"
   ]
  },
  {
   "cell_type": "code",
   "execution_count": null,
   "metadata": {},
   "outputs": [],
   "source": [
    "df[df['InvoiceNo']=='536365']"
   ]
  },
  {
   "cell_type": "code",
   "execution_count": null,
   "metadata": {},
   "outputs": [],
   "source": []
  }
 ],
 "metadata": {
  "kernelspec": {
   "display_name": "rag-video",
   "language": "python",
   "name": "python3"
  },
  "language_info": {
   "codemirror_mode": {
    "name": "ipython",
    "version": 3
   },
   "file_extension": ".py",
   "mimetype": "text/x-python",
   "name": "python",
   "nbconvert_exporter": "python",
   "pygments_lexer": "ipython3",
   "version": "3.10.13"
  }
 },
 "nbformat": 4,
 "nbformat_minor": 2
}
