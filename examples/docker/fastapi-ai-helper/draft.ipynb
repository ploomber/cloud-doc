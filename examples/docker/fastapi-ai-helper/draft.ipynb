{
 "cells": [
  {
   "cell_type": "code",
   "execution_count": 1,
   "metadata": {},
   "outputs": [
    {
     "name": "stderr",
     "output_type": "stream",
     "text": [
      "/Users/macpro/anaconda3/envs/aihelperapi/lib/python3.10/site-packages/tqdm/auto.py:21: TqdmWarning: IProgress not found. Please update jupyter and ipywidgets. See https://ipywidgets.readthedocs.io/en/stable/user_install.html\n",
      "  from .autonotebook import tqdm as notebook_tqdm\n"
     ]
    }
   ],
   "source": [
    "from haystack.dataclasses import Document\n",
    "import pandas as pd\n",
    "\n",
    "from haystack import Pipeline\n",
    "from haystack.document_stores.in_memory import InMemoryDocumentStore\n",
    "from haystack.components.embedders import SentenceTransformersDocumentEmbedder\n",
    "from haystack.components.writers import DocumentWriter\n",
    "\n",
    "from haystack.components.embedders import SentenceTransformersTextEmbedder\n",
    "from haystack.components.retrievers.in_memory import InMemoryEmbeddingRetriever\n",
    "from haystack.components.builders.prompt_builder import PromptBuilder\n",
    "from haystack.components.generators import GPTGenerator\n",
    "\n",
    "from haystack.components.retrievers.in_memory import InMemoryBM25Retriever\n",
    "\n",
    "\n",
    "from dotenv import load_dotenv\n",
    "import os\n"
   ]
  },
  {
   "cell_type": "code",
   "execution_count": 2,
   "metadata": {},
   "outputs": [],
   "source": [
    "load_dotenv(\".env\")\n",
    "openai_key = os.getenv(\"OPENAI_KEY\")"
   ]
  },
  {
   "cell_type": "code",
   "execution_count": 3,
   "metadata": {},
   "outputs": [],
   "source": [
    "# Source https://www.kaggle.com/datasets/carrie1/ecommerce-data?resource=download\n",
    "df = pd.read_csv(\"data.csv\", encoding='latin1')\n",
    "\n",
    "# Drop rows with empty CustomerID\n",
    "df.dropna(subset=['CustomerID'], inplace=True)\n",
    "\n",
    "# rename columns to all lower case\n",
    "df.columns = [x.lower() for x in df.columns]\n",
    "\n",
    "# Save df to dict\n",
    "df_dict = df.to_dict(\"records\")"
   ]
  },
  {
   "cell_type": "code",
   "execution_count": 5,
   "metadata": {},
   "outputs": [],
   "source": [
    "haystack_documents = []\n",
    "\n",
    "# Create a list of Haystack documents\n",
    "for i in range(len(df_dict)):\n",
    "    content_str = f\"Name of item purchased: {df_dict[i]['description']} \\\n",
    "        \\nQuantity purchased: {df_dict[i]['quantity']} \\\n",
    "        \\nPrice of item: {df_dict[i]['unitprice']} \\\n",
    "        \\nDate of purchase: {df_dict[i]['invoicedate']} \\\n",
    "        \\nCountry of purchase: {df_dict[i]['country']} \\\n",
    "        \\nCustomer ID: {df_dict[i]['customerid']} \\\n",
    "        \\nInvoice Number: {df_dict[i]['invoiceno']} \\\n",
    "        \\nStock Code: {df_dict[i]['stockcode']}\" ,\n",
    "    haystack_documents.append(Document(\n",
    "        content=content_str[0],\n",
    "        id = f\"ZOOA{str(1000000 + i)}\",\n",
    "        meta={\n",
    "            \"invoiceno\": df_dict[i][\"invoiceno\"],\n",
    "            \"stockcode\": df_dict[i][\"stockcode\"],\n",
    "            \"description\": df_dict[i][\"description\"],\n",
    "            \"quantity\": df_dict[i][\"quantity\"],\n",
    "            \"invoicedate\": df_dict[i][\"invoicedate\"],\n",
    "            \"unitprice\": df_dict[i][\"unitprice\"],\n",
    "            \"customerid\": df_dict[i][\"customerid\"],\n",
    "            \"country\": df_dict[i][\"country\"],\n",
    "        },\n",
    "    ))"
   ]
  },
  {
   "cell_type": "code",
   "execution_count": 6,
   "metadata": {},
   "outputs": [
    {
     "data": {
      "text/plain": [
       "406829"
      ]
     },
     "execution_count": 6,
     "metadata": {},
     "output_type": "execute_result"
    }
   ],
   "source": [
    "document_store = InMemoryDocumentStore(bm25_algorithm=\"BM25Plus\")\n",
    "document_store.write_documents(documents=haystack_documents)"
   ]
  },
  {
   "cell_type": "code",
   "execution_count": null,
   "metadata": {},
   "outputs": [],
   "source": [
    "document_store.filter_documents()[0]"
   ]
  },
  {
   "cell_type": "code",
   "execution_count": 42,
   "metadata": {},
   "outputs": [
    {
     "name": "stderr",
     "output_type": "stream",
     "text": [
      "/Users/macpro/anaconda3/envs/aihelperapi/lib/python3.10/site-packages/haystack/core/component/component.py:120: UserWarning: GPTGenerator is deprecated and will be removed in the next beta release. Please use OpenAIGenerator instead.\n",
      "  instance = super().__call__(*args, **kwargs)\n"
     ]
    }
   ],
   "source": [
    "\n",
    "\n",
    "######## Complete this section #############\n",
    "prompt_template = \"\"\"\n",
    "You are an expert data analyst who helps customers and employees with their questions about purchases and products.\n",
    "You use the information provided in the documents to answer the questions.\n",
    "You can answer the following types of questions:\n",
    "Questions regarding the order: please ask the user to give you the invoice number.\n",
    "Questions regarding the product: please ask the user to give you the stock code.\n",
    "Questions regarding purchases made on a given day: please ask the user to give you the date of purchase.\n",
    "If you are asked to calculate the total price of a purchase, please ask the user to give you the invoice number and add the total price of the items in the purchase.\n",
    "If you are asked to calculate the total number of items for a purchase, please ask the user to give you the invoice number and add the total number of items in the purchase.\n",
    "If the documents do not contain the answer to the question, say that ‘Answer is unknown.’\n",
    "Context:\n",
    "{% for doc in documents %}\n",
    "    Purchase information: {{ doc.content }} \n",
    "    Invoice Number: {{ doc.meta['invoiceno'] }} \n",
    "    Stock Code: {{doc.meta['stockcode']}}\n",
    "    Quantity purchased: {{doc.meta['quantity']}}\n",
    "    Date of purchase: {{doc.meta['invoicedate']}}\n",
    "    Price per item: {{doc.meta['unitprice']}} \\n\n",
    "{% endfor %};\n",
    "Question: {{query}}\n",
    "\\n Answer:\n",
    "\"\"\"\n",
    "prompt_builder = PromptBuilder(prompt_template)\n",
    "retriever = InMemoryBM25Retriever(document_store=document_store)\n",
    "############################################\n",
    "llm = GPTGenerator(api_key=openai_key, \n",
    "                   generation_kwargs={\"temperature\": 0},\n",
    "                   model='gpt-4')\n",
    "\n",
    "prediction_pipeline = Pipeline()\n",
    "prediction_pipeline.add_component(\"retriever\", retriever)\n",
    "prediction_pipeline.add_component(\"prompt_builder\", prompt_builder)\n",
    "prediction_pipeline.add_component(\"generator\", llm)\n",
    "\n",
    "prediction_pipeline.connect(\"retriever.documents\", \"prompt_builder.documents\")\n",
    "prediction_pipeline.connect(\"prompt_builder\", \"generator\")\n"
   ]
  },
  {
   "cell_type": "code",
   "execution_count": 28,
   "metadata": {},
   "outputs": [
    {
     "name": "stderr",
     "output_type": "stream",
     "text": [
      "Ranking by BM25...: 100%|██████████| 406829/406829 [00:06<00:00, 66506.74 docs/s]\n"
     ]
    },
    {
     "name": "stdout",
     "output_type": "stream",
     "text": [
      "The items for the order with invoice number 536365 are:\n",
      "- WHITE METAL LANTERN (Stock Code: 71053)\n",
      "- SET 7 BABUSHKA NESTING BOXES (Stock Code: 22752)\n",
      "- WHITE HANGING HEART T-LIGHT HOLDER (Stock Code: 85123A)\n",
      "- CREAM CUPID HEARTS COAT HANGER (Stock Code: 84406B)\n",
      "- RED WOOLLY HOTTIE WHITE HEART (Stock Code: 84029E)\n",
      "- GLASS STAR FROSTED T-LIGHT HOLDER (Stock Code: 21730)\n",
      "- KNITTED UNION FLAG HOT WATER BOTTLE (Stock Code: 84029G)\n"
     ]
    }
   ],
   "source": [
    "query = \"Items for order with invoice number 536365\"\n",
    "result = prediction_pipeline.run(data={\"retriever\": {\"query\": query}, \n",
    "                                       \"prompt_builder\": {\"query\": query},\n",
    "                                       })\n",
    "print(result['generator']['replies'][0])"
   ]
  },
  {
   "cell_type": "code",
   "execution_count": 43,
   "metadata": {},
   "outputs": [
    {
     "name": "stderr",
     "output_type": "stream",
     "text": [
      "Ranking by BM25...: 100%|██████████| 406829/406829 [00:04<00:00, 83507.19 docs/s] \n"
     ]
    },
    {
     "name": "stdout",
     "output_type": "stream",
     "text": [
      "The total number of items purchased for order 536365 is 6 (WHITE METAL LANTERN) + 2 (SET 7 BABUSHKA NESTING BOXES) + 6 (WHITE HANGING HEART T-LIGHT HOLDER) + 8 (CREAM CUPID HEARTS COAT HANGER) + 6 (RED WOOLLY HOTTIE WHITE HEART.) + 6 (GLASS STAR FROSTED T-LIGHT HOLDER) + 6 (KNITTED UNION FLAG HOT WATER BOTTLE) = 40 items.\n"
     ]
    }
   ],
   "source": [
    "query = \"Total number of items purchased for order 536365\"\n",
    "result = prediction_pipeline.run(data={\"retriever\": {\"query\": query}, \n",
    "                                       \"prompt_builder\": {\"query\": query},\n",
    "                                       })\n",
    "print(result['generator']['replies'][0])"
   ]
  },
  {
   "cell_type": "code",
   "execution_count": 44,
   "metadata": {},
   "outputs": [
    {
     "name": "stderr",
     "output_type": "stream",
     "text": [
      "Ranking by BM25...: 100%|██████████| 406829/406829 [00:04<00:00, 84497.74 docs/s]\n"
     ]
    },
    {
     "name": "stdout",
     "output_type": "stream",
     "text": [
      "The total cost for order 536365 is calculated as follows:\n",
      "\n",
      "WHITE METAL LANTERN: 6 * 3.39 = 20.34\n",
      "SET 7 BABUSHKA NESTING BOXES: 2 * 7.65 = 15.3\n",
      "WHITE HANGING HEART T-LIGHT HOLDER: 6 * 2.55 = 15.3\n",
      "CREAM CUPID HEARTS COAT HANGER: 8 * 2.75 = 22\n",
      "RED WOOLLY HOTTIE WHITE HEART: 6 * 3.39 = 20.34\n",
      "GLASS STAR FROSTED T-LIGHT HOLDER: 6 * 4.25 = 25.5\n",
      "KNITTED UNION FLAG HOT WATER BOTTLE: 6 * 3.39 = 20.34\n",
      "\n",
      "Total cost = 20.34 + 15.3 + 15.3 + 22 + 20.34 + 25.5 + 20.34 = 139.12\n"
     ]
    }
   ],
   "source": [
    "query = \"Total cost for order 536365\"\n",
    "result = prediction_pipeline.run(data={\"retriever\": {\"query\": query}, \n",
    "                                       \"prompt_builder\": {\"query\": query},\n",
    "                                       })\n",
    "print(result['generator']['replies'][0])"
   ]
  },
  {
   "cell_type": "code",
   "execution_count": 33,
   "metadata": {},
   "outputs": [
    {
     "data": {
      "text/plain": [
       "40"
      ]
     },
     "execution_count": 33,
     "metadata": {},
     "output_type": "execute_result"
    }
   ],
   "source": [
    "df[df['invoiceno']=='536365']['quantity'].sum()"
   ]
  },
  {
   "cell_type": "code",
   "execution_count": 40,
   "metadata": {},
   "outputs": [
    {
     "data": {
      "text/plain": [
       "139.12"
      ]
     },
     "execution_count": 40,
     "metadata": {},
     "output_type": "execute_result"
    }
   ],
   "source": [
    "(df[df['invoiceno']=='536365']['quantity']*df[df['invoiceno']=='536365']['unitprice']).sum()"
   ]
  },
  {
   "cell_type": "code",
   "execution_count": 17,
   "metadata": {},
   "outputs": [
    {
     "data": {
      "text/plain": [
       "array(['12/1/2010 8:26', '12/1/2010 9:02', '12/1/2010 9:32',\n",
       "       '12/1/2010 10:51', '12/1/2010 11:33', '12/2/2010 9:41',\n",
       "       '12/2/2010 9:44', '12/2/2010 10:54', '12/2/2010 10:56',\n",
       "       '12/2/2010 11:41', '12/2/2010 12:22', '12/2/2010 12:23',\n",
       "       '12/2/2010 12:25', '12/2/2010 14:04', '12/2/2010 14:06',\n",
       "       '12/2/2010 15:24', '12/2/2010 15:26', '12/2/2010 17:41',\n",
       "       '12/5/2010 13:05', '12/5/2010 13:08', '12/5/2010 13:18',\n",
       "       '12/5/2010 13:49', '12/5/2010 13:55', '12/5/2010 16:24',\n",
       "       '12/6/2010 11:26', '12/6/2010 14:36', '12/6/2010 15:27',\n",
       "       '12/7/2010 13:29', '12/8/2010 10:35', '12/8/2010 13:03',\n",
       "       '12/8/2010 16:15', '12/9/2010 13:34', '12/9/2010 16:53',\n",
       "       '12/12/2010 13:26', '12/12/2010 16:14', '12/14/2010 11:48',\n",
       "       '12/14/2010 14:40', '12/15/2010 9:58', '12/16/2010 18:20',\n",
       "       '12/19/2010 13:31', '12/20/2010 11:56', '1/4/2011 12:58',\n",
       "       '1/6/2011 15:25', '1/6/2011 16:03', '1/6/2011 18:57',\n",
       "       '1/7/2011 13:17', '1/7/2011 16:32', '1/9/2011 11:43',\n",
       "       '1/9/2011 14:12', '1/10/2011 9:44', '1/11/2011 8:50',\n",
       "       '1/11/2011 9:24', '1/12/2011 15:06', '1/12/2011 16:14',\n",
       "       '1/14/2011 13:42', '1/16/2011 11:08', '1/16/2011 16:23',\n",
       "       '1/17/2011 14:49', '1/19/2011 9:54', '1/19/2011 11:15',\n",
       "       '1/20/2011 15:22', '1/23/2011 13:34', '1/23/2011 14:20',\n",
       "       '1/23/2011 14:29', '1/25/2011 14:36', '1/27/2011 15:36',\n",
       "       '1/30/2011 10:19', '1/31/2011 14:07', '2/1/2011 10:47',\n",
       "       '2/1/2011 13:45', '2/1/2011 13:47', '2/2/2011 10:54',\n",
       "       '2/2/2011 14:37', '2/3/2011 13:26', '2/3/2011 19:58',\n",
       "       '2/6/2011 16:08', '2/8/2011 10:47', '2/8/2011 17:16',\n",
       "       '2/10/2011 17:50', '2/11/2011 12:36', '2/11/2011 12:45',\n",
       "       '2/14/2011 15:23', '2/15/2011 11:50', '2/15/2011 14:49',\n",
       "       '2/16/2011 10:47', '2/16/2011 11:03', '2/17/2011 12:24',\n",
       "       '2/17/2011 12:29', '2/17/2011 12:43', '2/21/2011 10:28',\n",
       "       '2/21/2011 15:04', '2/22/2011 15:00', '2/22/2011 16:15',\n",
       "       '2/23/2011 9:14', '2/25/2011 11:30', '2/27/2011 13:47',\n",
       "       '2/28/2011 13:35', '2/28/2011 15:05', '3/1/2011 13:19',\n",
       "       '3/1/2011 17:32', '3/4/2011 14:28', '3/8/2011 14:44',\n",
       "       '3/9/2011 11:28', '3/9/2011 14:57', '3/11/2011 12:11',\n",
       "       '3/13/2011 11:06', '3/13/2011 11:38', '3/14/2011 15:40',\n",
       "       '3/16/2011 14:02', '3/16/2011 15:45', '3/17/2011 9:13',\n",
       "       '3/17/2011 18:59', '3/18/2011 14:14', '3/20/2011 10:13',\n",
       "       '3/20/2011 13:33', '3/21/2011 13:51', '3/22/2011 11:05',\n",
       "       '3/22/2011 12:36', '3/23/2011 16:45', '3/25/2011 12:04',\n",
       "       '3/27/2011 12:21', '3/29/2011 12:57', '3/31/2011 13:43',\n",
       "       '3/31/2011 17:12', '3/31/2011 17:16', '4/1/2011 13:00',\n",
       "       '4/1/2011 13:20', '4/3/2011 15:07', '4/5/2011 12:08',\n",
       "       '4/5/2011 12:30', '4/6/2011 11:07', '4/6/2011 14:25',\n",
       "       '4/6/2011 15:31', '4/14/2011 9:28', '4/17/2011 13:53',\n",
       "       '4/18/2011 13:17', '4/18/2011 16:31', '4/19/2011 14:56',\n",
       "       '4/20/2011 12:44', '5/1/2011 11:36', '5/1/2011 12:41',\n",
       "       '5/3/2011 16:49', '5/4/2011 15:08', '5/5/2011 12:22',\n",
       "       '5/6/2011 13:43', '5/8/2011 12:36', '5/16/2011 9:52',\n",
       "       '5/16/2011 10:50', '5/17/2011 14:43', '5/18/2011 12:15',\n",
       "       '5/19/2011 13:35', '5/19/2011 15:53', '5/20/2011 14:23',\n",
       "       '5/22/2011 11:34', '5/22/2011 12:16', '5/26/2011 15:19',\n",
       "       '6/1/2011 12:13', '6/3/2011 7:48', '6/5/2011 13:05',\n",
       "       '6/5/2011 15:01', '6/6/2011 13:48', '6/7/2011 10:42',\n",
       "       '6/7/2011 12:34', '6/8/2011 8:46', '6/12/2011 12:01',\n",
       "       '6/15/2011 13:05', '6/16/2011 15:49', '6/19/2011 12:08',\n",
       "       '6/24/2011 9:40', '6/24/2011 17:07', '6/30/2011 12:04',\n",
       "       '6/30/2011 12:23', '7/5/2011 12:50', '7/10/2011 15:25',\n",
       "       '7/11/2011 15:52', '7/14/2011 13:41', '7/17/2011 14:42',\n",
       "       '7/19/2011 12:39', '7/19/2011 14:59', '7/20/2011 11:22',\n",
       "       '7/20/2011 11:55', '7/22/2011 13:53', '7/24/2011 12:20',\n",
       "       '7/24/2011 15:52', '7/29/2011 11:49', '8/1/2011 11:57',\n",
       "       '8/1/2011 17:37', '8/4/2011 14:12', '8/8/2011 12:20',\n",
       "       '8/11/2011 16:12', '8/11/2011 17:35', '8/15/2011 14:32',\n",
       "       '8/17/2011 14:22', '8/18/2011 17:43', '8/22/2011 14:38',\n",
       "       '8/23/2011 13:35', '8/24/2011 13:22', '8/25/2011 11:59',\n",
       "       '8/26/2011 11:47', '8/26/2011 14:17', '8/31/2011 9:11',\n",
       "       '9/1/2011 11:33', '9/6/2011 12:15', '9/7/2011 12:55',\n",
       "       '9/11/2011 14:15', '9/16/2011 11:27', '9/16/2011 13:03',\n",
       "       '9/16/2011 13:31', '9/21/2011 13:33', '9/21/2011 13:57',\n",
       "       '9/22/2011 16:46', '9/29/2011 13:17', '9/29/2011 18:30',\n",
       "       '9/30/2011 10:52', '10/13/2011 10:49', '10/16/2011 14:35',\n",
       "       '10/17/2011 12:33', '10/17/2011 13:39', '10/20/2011 19:13',\n",
       "       '10/21/2011 11:06', '10/21/2011 11:08', '10/24/2011 10:17',\n",
       "       '10/27/2011 15:49', '10/30/2011 10:54', '11/1/2011 13:43',\n",
       "       '11/1/2011 14:54', '11/6/2011 13:28', '11/6/2011 15:17',\n",
       "       '11/7/2011 11:40', '11/8/2011 12:18', '11/10/2011 18:04',\n",
       "       '11/11/2011 16:58', '11/13/2011 14:31', '11/15/2011 16:42',\n",
       "       '11/17/2011 9:51', '11/17/2011 10:59', '11/21/2011 14:34',\n",
       "       '11/22/2011 14:21', '11/24/2011 14:06', '11/28/2011 13:47',\n",
       "       '11/29/2011 15:39', '11/29/2011 18:14', '11/30/2011 11:08',\n",
       "       '12/2/2011 15:29', '12/4/2011 11:56', '12/5/2011 12:30',\n",
       "       '12/5/2011 14:30'], dtype=object)"
      ]
     },
     "execution_count": 17,
     "metadata": {},
     "output_type": "execute_result"
    }
   ],
   "source": [
    "df[df['stockcode']=='84406B']['invoicedate'].unique()"
   ]
  },
  {
   "cell_type": "code",
   "execution_count": 10,
   "metadata": {},
   "outputs": [],
   "source": [
    "\n",
    "pipeline = Pipeline()\n",
    "pipeline.add_component(instance=InMemoryBM25Retriever(document_store=document_store), name=\"retriever\")"
   ]
  },
  {
   "cell_type": "code",
   "execution_count": 11,
   "metadata": {},
   "outputs": [
    {
     "name": "stderr",
     "output_type": "stream",
     "text": [
      "Ranking by BM25...: 100%|██████████| 7/7 [00:00<00:00, 53092.46 docs/s]\n"
     ]
    }
   ],
   "source": [
    "query = \"Names of items purchased\"\n",
    "result = pipeline.run(data={\"retriever\": {\"query\": query, \n",
    "                                          \"filters\": {  \"field\": \"meta.invoiceno\", \"operator\": \"==\", \"value\": \"536365\"}}})"
   ]
  },
  {
   "cell_type": "code",
   "execution_count": 12,
   "metadata": {},
   "outputs": [
    {
     "name": "stdout",
     "output_type": "stream",
     "text": [
      "{'retriever': {'documents': [Document(id=ZOOA1000001, content: 'Name of item purchased: WHITE METAL LANTERN         \n",
      "Quantity purchased: 6         \n",
      "Price of item: 3...', meta: {'invoiceno': '536365', 'stockcode': '71053', 'description': 'WHITE METAL LANTERN', 'quantity': 6, 'invoicedate': '12/1/2010 8:26', 'unitprice': 3.39, 'customerid': 17850.0, 'country': 'United Kingdom'}, score: 0.7061604193237588), Document(id=ZOOA1000005, content: 'Name of item purchased: SET 7 BABUSHKA NESTING BOXES         \n",
      "Quantity purchased: 2         \n",
      "Price o...', meta: {'invoiceno': '536365', 'stockcode': '22752', 'description': 'SET 7 BABUSHKA NESTING BOXES', 'quantity': 2, 'invoicedate': '12/1/2010 8:26', 'unitprice': 7.65, 'customerid': 17850.0, 'country': 'United Kingdom'}, score: 0.7029024403863381), Document(id=ZOOA1000006, content: 'Name of item purchased: GLASS STAR FROSTED T-LIGHT HOLDER         \n",
      "Quantity purchased: 6         \n",
      "Pr...', meta: {'invoiceno': '536365', 'stockcode': '21730', 'description': 'GLASS STAR FROSTED T-LIGHT HOLDER', 'quantity': 6, 'invoicedate': '12/1/2010 8:26', 'unitprice': 4.25, 'customerid': 17850.0, 'country': 'United Kingdom'}, score: 0.6996949046225787), Document(id=ZOOA1000004, content: 'Name of item purchased: RED WOOLLY HOTTIE WHITE HEART.         \n",
      "Quantity purchased: 6         \n",
      "Price...', meta: {'invoiceno': '536365', 'stockcode': '84029E', 'description': 'RED WOOLLY HOTTIE WHITE HEART.', 'quantity': 6, 'invoicedate': '12/1/2010 8:26', 'unitprice': 3.39, 'customerid': 17850.0, 'country': 'United Kingdom'}, score: 0.6996949046225787), Document(id=ZOOA1000002, content: 'Name of item purchased: CREAM CUPID HEARTS COAT HANGER         \n",
      "Quantity purchased: 8         \n",
      "Price...', meta: {'invoiceno': '536365', 'stockcode': '84406B', 'description': 'CREAM CUPID HEARTS COAT HANGER', 'quantity': 8, 'invoicedate': '12/1/2010 8:26', 'unitprice': 2.75, 'customerid': 17850.0, 'country': 'United Kingdom'}, score: 0.6996949046225787), Document(id=ZOOA1000000, content: 'Name of item purchased: WHITE HANGING HEART T-LIGHT HOLDER         \n",
      "Quantity purchased: 6         \n",
      "P...', meta: {'invoiceno': '536365', 'stockcode': '85123A', 'description': 'WHITE HANGING HEART T-LIGHT HOLDER', 'quantity': 6, 'invoicedate': '12/1/2010 8:26', 'unitprice': 2.55, 'customerid': 17850.0, 'country': 'United Kingdom'}, score: 0.6996949046225787), Document(id=ZOOA1000003, content: 'Name of item purchased: KNITTED UNION FLAG HOT WATER BOTTLE         \n",
      "Quantity purchased: 6         \n",
      "...', meta: {'invoiceno': '536365', 'stockcode': '84029G', 'description': 'KNITTED UNION FLAG HOT WATER BOTTLE', 'quantity': 6, 'invoicedate': '12/1/2010 8:26', 'unitprice': 3.39, 'customerid': 17850.0, 'country': 'United Kingdom'}, score: 0.6965365964677661)]}}\n"
     ]
    }
   ],
   "source": [
    "print(result)"
   ]
  },
  {
   "cell_type": "code",
   "execution_count": null,
   "metadata": {},
   "outputs": [],
   "source": [
    "document_store.filter_documents(filters={\"meta.invoiceno\": [\"536365\"]})"
   ]
  },
  {
   "cell_type": "code",
   "execution_count": null,
   "metadata": {},
   "outputs": [],
   "source": [
    "df[df['InvoiceNo']=='536365']"
   ]
  },
  {
   "cell_type": "code",
   "execution_count": null,
   "metadata": {},
   "outputs": [],
   "source": []
  }
 ],
 "metadata": {
  "kernelspec": {
   "display_name": "rag-video",
   "language": "python",
   "name": "python3"
  },
  "language_info": {
   "codemirror_mode": {
    "name": "ipython",
    "version": 3
   },
   "file_extension": ".py",
   "mimetype": "text/x-python",
   "name": "python",
   "nbconvert_exporter": "python",
   "pygments_lexer": "ipython3",
   "version": "3.10.13"
  }
 },
 "nbformat": 4,
 "nbformat_minor": 2
}
