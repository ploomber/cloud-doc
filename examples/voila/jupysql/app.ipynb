{
 "cells": [
  {
   "cell_type": "markdown",
   "metadata": {},
   "source": [
    "# Analytical application\n",
    "\n",
    "> This application helps you explore the penguins dataset"
   ]
  },
  {
   "cell_type": "markdown",
   "metadata": {},
   "source": [
    "Made with ❤️ by **[Ploomber cloud](https://platform.ploomber.io/)**."
   ]
  },
  {
   "cell_type": "markdown",
   "metadata": {},
   "source": [
    "## Any feedback?\n",
    "We'd love to hear your feedback, and you'll get free compute, credits and Ploomber swag.\n",
    "\n",
    "Set a [short meeting](https://calendly.com/d/d2s-xd9-4r9/ploomber-founders), or [fill out this form](https://ploomber.io/contact/) to learn more."
   ]
  },
  {
   "cell_type": "code",
   "execution_count": 1,
   "metadata": {
    "tags": []
   },
   "outputs": [],
   "source": [
    "from urllib.request import urlretrieve\n",
    "\n",
    "import ipywidgets as widgets\n",
    "import matplotlib.pyplot as plt\n",
    "from jinja2 import Template\n",
    "\n",
    "from sql.ggplot import ggplot, aes, geom_boxplot, geom_histogram, facet_wrap"
   ]
  },
  {
   "cell_type": "code",
   "execution_count": 2,
   "metadata": {},
   "outputs": [],
   "source": [
    "_ = urlretrieve(\"https://raw.githubusercontent.com/mwaskom/seaborn-data/master/penguins.csv\", \"penguins.csv\")"
   ]
  },
  {
   "cell_type": "code",
   "execution_count": 5,
   "metadata": {
    "tags": []
   },
   "outputs": [
    {
     "data": {
      "text/html": [
       "<span style=\"None\">Found pyproject.toml from &#x27;/Users/idomi/Documents/ploomber/cloud-backend&#x27;</span>"
      ],
      "text/plain": [
       "Found pyproject.toml from '/Users/idomi/Documents/ploomber/cloud-backend'"
      ]
     },
     "metadata": {},
     "output_type": "display_data"
    }
   ],
   "source": [
    "%load_ext sql\n",
    "%sql duckdb://\n",
    "%config SqlMagic.displaycon = False"
   ]
  },
  {
   "cell_type": "code",
   "execution_count": null,
   "metadata": {
    "tags": []
   },
   "outputs": [],
   "source": [
    "%%sql\n",
    "CREATE TABLE penguins AS\n",
    "SELECT *\n",
    "FROM 'penguins.csv'\n",
    "WHERE SEX IS NOT NULL"
   ]
  },
  {
   "cell_type": "code",
   "execution_count": null,
   "metadata": {},
   "outputs": [],
   "source": [
    "%%capture\n",
    "%%sql\n",
    "CREATE TEMPORARY TABLE filtered_penguins AS\n",
    "SELECT *\n",
    "FROM penguins\n",
    "WHERE species = 'Adelie'\n",
    "  AND island = 'Biscoe'\n",
    "  AND (sex = 'MALE' or sex = 'FEMALE');\n",
    "\n",
    "UPDATE filtered_penguins\n",
    "SET island = 'Dream', species = 'Gentoo';\n",
    "\n",
    "INSERT INTO penguins\n",
    "SELECT * FROM filtered_penguins;\n",
    "\n",
    "DROP TABLE filtered_penguins;"
   ]
  },
  {
   "cell_type": "code",
   "execution_count": null,
   "metadata": {},
   "outputs": [],
   "source": [
    "%%capture\n",
    "%%sql\n",
    "CREATE TEMPORARY TABLE filtered_penguins AS\n",
    "SELECT *\n",
    "FROM penguins\n",
    "WHERE species = 'Gentoo'\n",
    "  AND island = 'Biscoe'\n",
    "  AND (sex = 'MALE' or sex = 'FEMALE');\n",
    "\n",
    "UPDATE filtered_penguins\n",
    "SET island = 'Torgersen';\n",
    "\n",
    "INSERT INTO penguins\n",
    "SELECT * FROM filtered_penguins;\n",
    "\n",
    "DROP TABLE filtered_penguins;"
   ]
  },
  {
   "cell_type": "code",
   "execution_count": null,
   "metadata": {},
   "outputs": [],
   "source": [
    "%%capture\n",
    "%%sql\n",
    "CREATE TEMPORARY TABLE filtered_penguins AS\n",
    "SELECT *\n",
    "FROM penguins\n",
    "WHERE species = 'Gentoo'\n",
    "  AND island = 'Biscoe'\n",
    "  AND (sex = 'MALE' or sex = 'FEMALE');\n",
    "\n",
    "UPDATE filtered_penguins\n",
    "SET species = 'Chinstrap', island = 'Torgersen';\n",
    "\n",
    "INSERT INTO penguins\n",
    "SELECT * FROM filtered_penguins;\n",
    "\n",
    "DROP TABLE filtered_penguins;"
   ]
  },
  {
   "cell_type": "code",
   "execution_count": null,
   "metadata": {},
   "outputs": [],
   "source": [
    "%%capture\n",
    "%%sql\n",
    "CREATE TEMPORARY TABLE filtered_penguins AS\n",
    "SELECT *\n",
    "FROM penguins\n",
    "WHERE species = 'Gentoo'\n",
    "  AND island = 'Biscoe'\n",
    "  AND (sex = 'MALE' or sex = 'FEMALE');\n",
    "\n",
    "UPDATE filtered_penguins\n",
    "SET species = 'Chinstrap';\n",
    "\n",
    "INSERT INTO penguins\n",
    "SELECT * FROM filtered_penguins;\n",
    "\n",
    "DROP TABLE filtered_penguins;"
   ]
  },
  {
   "cell_type": "code",
   "execution_count": null,
   "metadata": {
    "tags": []
   },
   "outputs": [],
   "source": [
    "islands = %sql select DISTINCT(island) from penguins\n",
    "islands = [island[0] for island in islands]\n",
    "\n",
    "species = %sql select DISTINCT(species) from penguins\n",
    "species = [s[0] for s in species]\n",
    "\n",
    "sex = %sql select DISTINCT(sex) from penguins\n",
    "sex = [s[0] for s in sex]"
   ]
  },
  {
   "cell_type": "code",
   "execution_count": null,
   "metadata": {
    "tags": []
   },
   "outputs": [],
   "source": [
    "from IPython import get_ipython\n",
    "ip = get_ipython()\n",
    "sql_magic = ip.find_cell_magic(\"sql\")"
   ]
  },
  {
   "cell_type": "markdown",
   "metadata": {},
   "source": [
    "## Data selection\n",
    "\n",
    "> Multiple values can be selected with shift and/or ctrl (or command) pressed and mouse clicks or arrow keys."
   ]
  },
  {
   "cell_type": "code",
   "execution_count": null,
   "metadata": {
    "tags": []
   },
   "outputs": [],
   "source": [
    "widget_island = widgets.SelectMultiple(\n",
    "    options=islands,\n",
    "    description='Island',\n",
    "    value=islands,\n",
    ")\n",
    "\n",
    "widget_species = widgets.SelectMultiple(\n",
    "    options=species,\n",
    "    description='Species',\n",
    "    value=species,\n",
    ")\n",
    "\n",
    "\n",
    "widget_sex = widgets.SelectMultiple(\n",
    "    options=sex,\n",
    "    description='Sex',\n",
    "    value=sex,\n",
    ")\n",
    "\n",
    "button = widgets.Button(\n",
    "    description='Click me',\n",
    "    tooltip='Plot',\n",
    ")\n",
    "\n",
    "\n",
    "widgets.TwoByTwoLayout(top_left=widget_island,\n",
    "               bottom_left=widget_species,\n",
    "               bottom_right=widget_sex)"
   ]
  },
  {
   "cell_type": "code",
   "execution_count": null,
   "metadata": {
    "tags": []
   },
   "outputs": [],
   "source": [
    "output1 = widgets.Output()\n",
    "output2 = widgets.Output()\n",
    "output3 = widgets.Output()\n",
    "output4 = widgets.Output()"
   ]
  },
  {
   "cell_type": "code",
   "execution_count": null,
   "metadata": {
    "tags": []
   },
   "outputs": [],
   "source": [
    "def compile_query(islands, species, sex):\n",
    "    islands_in = \", \".join(repr(i) for i in islands)\n",
    "    species_in = \", \".join(repr(i) for i in species)\n",
    "    sex_in = \", \".join(repr(i) for i in sex)\n",
    "    return Template(\"\"\"\n",
    "    SELECT * FROM penguins\n",
    "    WHERE ISLAND IN ({{islands_in}})\n",
    "    AND SPECIES IN ({{species_in}})\n",
    "    AND SEX IN ({{sex_in}})\n",
    "    \"\"\").render(islands_in=islands_in,\n",
    "               species_in=species_in,\n",
    "               sex_in=sex_in)"
   ]
  },
  {
   "cell_type": "code",
   "execution_count": null,
   "metadata": {
    "tags": []
   },
   "outputs": [],
   "source": [
    "def plot_factory(column, fill):\n",
    "    def plot():\n",
    "        p = (ggplot(\"plotdata\", with_=\"plotdata\", mapping=aes(x=column))\n",
    "                 + geom_histogram(bins=20, fill=fill))\n",
    "        p.figure.axes[0].set_title(f\"{column} by {fill}\")\n",
    "        plt.show(p.figure)\n",
    "        return p\n",
    "    \n",
    "    return plot\n",
    "    \n",
    "mass_by_island = plot_factory(\"body_mass_g\", \"island\")\n",
    "mass_length_mm_by_species = plot_factory(\"body_mass_g\", \"species\")\n",
    "mass_length_mm_by_sex = plot_factory(\"body_mass_g\", \"sex\")"
   ]
  },
  {
   "cell_type": "code",
   "execution_count": null,
   "metadata": {
    "tags": []
   },
   "outputs": [],
   "source": [
    "def button_clicked(button):\n",
    "    output1.clear_output()\n",
    "    output2.clear_output()\n",
    "    output3.clear_output()\n",
    "    output4.clear_output()\n",
    "    \n",
    "    q = compile_query(widget_island.value,\n",
    "                      widget_species.value,\n",
    "                      widget_sex.value)\n",
    "    \n",
    "    ip.run_cell_magic(\"sql\", \"--save plotdata\", q)\n",
    "\n",
    "    with output1:\n",
    "        mass_by_island()\n",
    "\n",
    "    with output2:\n",
    "        mass_length_mm_by_species()\n",
    "\n",
    "    with output3:\n",
    "        mass_length_mm_by_sex()\n",
    "\n",
    "    with output4:\n",
    "        from IPython.display import display\n",
    "        display(ip.run_cell_magic(\"sql\", \"\", \"SELECT * FROM plotdata\"))\n",
    "\n",
    "\n",
    "\n",
    "button = widgets.Button(\n",
    "    description='Plot',\n",
    "    tooltip='Plot the data',\n",
    ")    \n",
    "\n",
    "button.on_click(button_clicked)\n",
    "button"
   ]
  },
  {
   "cell_type": "markdown",
   "metadata": {},
   "source": [
    "## Plots"
   ]
  },
  {
   "cell_type": "code",
   "execution_count": null,
   "metadata": {
    "tags": []
   },
   "outputs": [],
   "source": [
    "widgets.TwoByTwoLayout(top_left=output1,\n",
    "                       top_right=output2,\n",
    "                       bottom_left=output3)"
   ]
  },
  {
   "cell_type": "markdown",
   "metadata": {},
   "source": [
    "## Data preview"
   ]
  },
  {
   "cell_type": "code",
   "execution_count": null,
   "metadata": {
    "tags": []
   },
   "outputs": [],
   "source": [
    "output4"
   ]
  },
  {
   "cell_type": "code",
   "execution_count": null,
   "metadata": {},
   "outputs": [],
   "source": []
  }
 ],
 "metadata": {
  "kernelspec": {
   "display_name": "Python 3 (ipykernel)",
   "language": "python",
   "name": "python3"
  },
  "language_info": {
   "codemirror_mode": {
    "name": "ipython",
    "version": 3
   },
   "file_extension": ".py",
   "mimetype": "text/x-python",
   "name": "python",
   "nbconvert_exporter": "python",
   "pygments_lexer": "ipython3",
   "version": "3.10.9"
  }
 },
 "nbformat": 4,
 "nbformat_minor": 4
}
