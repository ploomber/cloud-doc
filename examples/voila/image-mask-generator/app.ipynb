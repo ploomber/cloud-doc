{
 "cells": [
  {
   "cell_type": "markdown",
   "id": "8a4fe76b-8db6-41c1-9f2f-5d0f8644c3eb",
   "metadata": {},
   "source": [
    "# Mask generator\n",
    "\n",
    "This tool allows you to create mask images, required by inpainting models such as Stable Diffusion Inpainting.\n",
    "\n",
    "Upload an image:"
   ]
  },
  {
   "cell_type": "code",
   "execution_count": 1,
   "id": "4dc0abe1-dff3-4b42-8163-1a49a254765f",
   "metadata": {},
   "outputs": [],
   "source": [
    "from ipywidgets import FileUpload, Image, Output, Button, VBox\n",
    "from ipycanvas import hold_canvas, MultiCanvas\n",
    "import PIL\n",
    "from IPython import display"
   ]
  },
  {
   "cell_type": "code",
   "execution_count": 2,
   "id": "1fd23388-5820-4a48-b7ab-f636be965fa1",
   "metadata": {},
   "outputs": [],
   "source": [
    "drawing = False\n",
    "position = None\n",
    "shape = []\n",
    "\n",
    "\n",
    "def on_mouse_down(x, y):\n",
    "    global drawing\n",
    "    global position\n",
    "    global shape\n",
    "\n",
    "    drawing = True\n",
    "    position = (x, y)\n",
    "    shape = [position]\n",
    "\n",
    "\n",
    "def on_mouse_move(x, y):\n",
    "    global drawing\n",
    "    global position\n",
    "    global shape\n",
    "\n",
    "    if not drawing:\n",
    "        return\n",
    "\n",
    "    with hold_canvas():\n",
    "        canvas.stroke_line(position[0], position[1], x, y)\n",
    "\n",
    "        position = (x, y)\n",
    "\n",
    "    shape.append(position)\n",
    "\n",
    "\n",
    "def on_mouse_up(x, y):\n",
    "    global drawing\n",
    "    global position\n",
    "    global shape\n",
    "\n",
    "    drawing = False\n",
    "\n",
    "    with hold_canvas():\n",
    "        canvas.stroke_line(position[0], position[1], x, y)\n",
    "        canvas.fill_polygon(shape)\n",
    "\n",
    "    shape = []\n",
    "\n",
    "\n",
    "multi = MultiCanvas(2, width=10, height=10, sync_image_data=True)\n",
    "background, canvas = multi\n",
    "canvas.on_mouse_down(on_mouse_down)\n",
    "canvas.on_mouse_move(on_mouse_move)\n",
    "canvas.on_mouse_up(on_mouse_up)"
   ]
  },
  {
   "cell_type": "code",
   "execution_count": 3,
   "id": "099f362f-38ca-4e15-96ac-6c6d04a89435",
   "metadata": {},
   "outputs": [
    {
     "data": {
      "application/vnd.jupyter.widget-view+json": {
       "model_id": "9c0537b5a7b741fbae22e6705a4a5379",
       "version_major": 2,
       "version_minor": 0
      },
      "text/plain": [
       "FileUpload(value=(), accept='image/*', description='Upload')"
      ]
     },
     "execution_count": 3,
     "metadata": {},
     "output_type": "execute_result"
    }
   ],
   "source": [
    "import io\n",
    "\n",
    "upload = FileUpload(\n",
    "    accept='image/*',\n",
    "    multiple=False\n",
    ")\n",
    "\n",
    "output = Output()\n",
    "\n",
    "\n",
    "def on_file_upload(change):\n",
    "    uploaded_file = change['new'][0]\n",
    "    content = uploaded_file['content']\n",
    "    img_pil = PIL.Image.open(io.BytesIO(content.tobytes()))\n",
    "    multi.width, multi.height = img_pil.width, img_pil.height\n",
    "    \n",
    "    image = Image(value=content)\n",
    "        \n",
    "    background.fill_style = \"#000000\"\n",
    "    background.fill_rect(0, 0, 1000, 1000)\n",
    "    background.draw_image(image, x=0, y=0)\n",
    "    canvas.stroke_style = \"#000000\"\n",
    "    canvas.sync_image_data = True\n",
    "\n",
    "    \n",
    "upload.observe(on_file_upload, names='value')\n",
    "upload"
   ]
  },
  {
   "cell_type": "markdown",
   "id": "6d8ff1b1-e318-47a0-87b0-0f3e6e546a96",
   "metadata": {},
   "source": [
    "The image will appear here, draw the silhouette from the object you want to remove:"
   ]
  },
  {
   "cell_type": "code",
   "execution_count": 4,
   "id": "3294339a-fcf1-4694-b21d-8b79d4001491",
   "metadata": {},
   "outputs": [
    {
     "data": {
      "application/vnd.jupyter.widget-view+json": {
       "model_id": "e97f833041074a80932cd9d37602ffda",
       "version_major": 2,
       "version_minor": 0
      },
      "text/plain": [
       "MultiCanvas(height=10, sync_image_data=True, width=10)"
      ]
     },
     "execution_count": 4,
     "metadata": {},
     "output_type": "execute_result"
    }
   ],
   "source": [
    "multi"
   ]
  },
  {
   "cell_type": "markdown",
   "id": "1ba84edb-e79c-4c5d-952d-2e300c0e4a1b",
   "metadata": {},
   "source": [
    "When done, click on generate mask:"
   ]
  },
  {
   "cell_type": "code",
   "execution_count": 5,
   "id": "ec8c39ab-35b4-4d1e-a97e-970a5cdca53f",
   "metadata": {},
   "outputs": [
    {
     "data": {
      "application/vnd.jupyter.widget-view+json": {
       "model_id": "2b123829932249e7a0420b4228216e2a",
       "version_major": 2,
       "version_minor": 0
      },
      "text/plain": [
       "VBox(children=(Button(description='Generate mask', style=ButtonStyle()),))"
      ]
     },
     "execution_count": 5,
     "metadata": {},
     "output_type": "execute_result"
    }
   ],
   "source": [
    "button = Button(description=\"Generate mask\")\n",
    "\n",
    "def on_button_clicked(button):\n",
    "    mask = PIL.Image.fromarray(canvas.get_image_data())\n",
    "    mask_ = PIL.Image.new(\"RGBA\", mask.size, \"WHITE\")\n",
    "    mask_.paste(mask, (0, 0), mask)           \n",
    "    mask_ = mask_.convert('RGB')\n",
    "    mask_final = PIL.ImageOps.invert(mask_)\n",
    "\n",
    "    with output:\n",
    "        display.clear_output()\n",
    "        display.display(mask_final)\n",
    "\n",
    "button.on_click(on_button_clicked)\n",
    "\n",
    "VBox([button])"
   ]
  },
  {
   "cell_type": "markdown",
   "id": "f63031a6-7d5e-406c-a680-2f9905648ec8",
   "metadata": {},
   "source": [
    "(right click to save the image)"
   ]
  },
  {
   "cell_type": "code",
   "execution_count": 6,
   "id": "16168706-f1c8-43b3-b9f4-187705d720e9",
   "metadata": {},
   "outputs": [
    {
     "data": {
      "application/vnd.jupyter.widget-view+json": {
       "model_id": "763e16b3912247329e8b2a3d4eaecf23",
       "version_major": 2,
       "version_minor": 0
      },
      "text/plain": [
       "Output()"
      ]
     },
     "execution_count": 6,
     "metadata": {},
     "output_type": "execute_result"
    }
   ],
   "source": [
    "output"
   ]
  },
  {
   "cell_type": "markdown",
   "id": "5f6b81f9-2f12-4a86-8415-766f13f47fac",
   "metadata": {},
   "source": [
    "This application is hosted in [Ploomber Cloud](https://ploomber.io/)"
   ]
  }
 ],
 "metadata": {
  "kernelspec": {
   "display_name": "Python 3 (ipykernel)",
   "language": "python",
   "name": "python3"
  },
  "language_info": {
   "codemirror_mode": {
    "name": "ipython",
    "version": 3
   },
   "file_extension": ".py",
   "mimetype": "text/x-python",
   "name": "python",
   "nbconvert_exporter": "python",
   "pygments_lexer": "ipython3",
   "version": "3.11.7"
  }
 },
 "nbformat": 4,
 "nbformat_minor": 5
}
