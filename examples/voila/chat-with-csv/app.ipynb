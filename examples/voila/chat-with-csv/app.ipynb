{
 "cells": [
  {
   "cell_type": "markdown",
   "id": "43eaf077-9d60-47a0-bc9b-6ebe8fd7f63d",
   "metadata": {},
   "source": [
    "# Chat with a CSV file\n",
    "\n",
    "This application allows you to upload a `.csv` file and ask questions.\n",
    "\n",
    "Sample questions:\n",
    "\n",
    "- What is the max value of the column {{column}}\n",
    "- Count the NAs per column\n",
    "- Plot a histogram/boxplot of {{column}}\n",
    "\n",
    "Built with OpenAI, [JupySQL](https://github.com/ploomber/jupysql), [DuckDB](https://github.com/duckdb/duckdb), and [Voilà](https://github.com/voila-dashboards/voila)\n",
    "\n",
    "## 1. Upload `.csv` file"
   ]
  },
  {
   "cell_type": "code",
   "execution_count": 1,
   "id": "9fdb33c1-654e-4f95-a2a6-329d88443779",
   "metadata": {},
   "outputs": [],
   "source": [
    "DEBUG = True"
   ]
  },
  {
   "cell_type": "code",
   "execution_count": 2,
   "id": "d49f1e52-3bf7-483d-9cc0-3e84bb16d883",
   "metadata": {
    "tags": []
   },
   "outputs": [
    {
     "data": {
      "text/html": [
       "<span style=\"None\">The &#x27;toml&#x27; package isn&#x27;t installed. To load settings from pyproject.toml or ~/.jupysql/config, install with: pip install toml</span>"
      ],
      "text/plain": [
       "The 'toml' package isn't installed. To load settings from pyproject.toml or ~/.jupysql/config, install with: pip install toml"
      ]
     },
     "metadata": {},
     "output_type": "display_data"
    },
    {
     "data": {
      "text/html": [
       "<span style=\"None\">Connecting to &#x27;default&#x27;</span>"
      ],
      "text/plain": [
       "Connecting to 'default'"
      ]
     },
     "metadata": {},
     "output_type": "display_data"
    }
   ],
   "source": [
    "%load_ext sql\n",
    "%config SqlMagic.feedback = 0\n",
    "%sql duckdb://"
   ]
  },
  {
   "cell_type": "code",
   "execution_count": 3,
   "id": "e4657011-eff2-48e9-8852-185a56de3481",
   "metadata": {
    "tags": []
   },
   "outputs": [],
   "source": [
    "import uuid\n",
    "from functools import partial\n",
    "\n",
    "import openai\n",
    "import ipywidgets as widgets\n",
    "from IPython.display import display, clear_output\n",
    "import requests\n",
    "from sql.plot import boxplot, histogram\n",
    "import matplotlib.pyplot as plt\n",
    "\n",
    "\n",
    "def chat_with_gpt3(prompt):\n",
    "    response = openai.ChatCompletion.create(\n",
    "        model=\"gpt-3.5-turbo\",\n",
    "        messages=[\n",
    "            {\"role\": \"system\", \"content\": INITIAL_PROMPT},\n",
    "            {\"role\": \"user\", \"content\": \"Show me the first 5 rows\"},\n",
    "            {\"role\": \"assistant\", \"content\": \"SELECT * FROM my_data LIMIT 5\"},\n",
    "            {\"role\": \"user\", \"content\": prompt}\n",
    "        ]\n",
    "    )\n",
    "    return response['choices'][0]['message']['content']\n",
    "\n",
    "def gen_name():\n",
    "    return str(uuid.uuid4())[:8] + '.csv'"
   ]
  },
  {
   "cell_type": "code",
   "execution_count": 4,
   "id": "5a4fbc04-c436-4e15-b311-8547106d238d",
   "metadata": {},
   "outputs": [],
   "source": [
    "def handle_api_key_input(_):\n",
    "    \"\"\"Function to allow users to set OpenAI key\"\"\"\n",
    "    api_input = api_key_input.value\n",
    "    api_key_input.value = ''\n",
    "\n",
    "    openai.api_key = api_input\n",
    "    submit_button.disabled=False\n",
    "    user_input.disabled=False\n",
    "    api_key_info.value = 'API key saved successfully. Now you are ready to chat!'"
   ]
  },
  {
   "cell_type": "code",
   "execution_count": 5,
   "id": "28b9a447-84ab-4659-893d-ce8239b67be1",
   "metadata": {},
   "outputs": [
    {
     "name": "stderr",
     "output_type": "stream",
     "text": [
      "/var/folders/ff/jydfr9497jn4lqn28913mvwc0000gn/T/ipykernel_9405/4101478929.py:3: DeprecationWarning: on_submit is deprecated. Instead, set the .continuous_update attribute to False and observe the value changing with: mywidget.observe(callback, 'value').\n",
      "  api_key_input.on_submit(handle_api_key_input)\n"
     ]
    }
   ],
   "source": [
    "# text input\n",
    "api_key_input = widgets.Text(placeholder='Enter your OpenAI API Key...')\n",
    "api_key_input.on_submit(handle_api_key_input)\n",
    "\n",
    "# submit button\n",
    "save_api_button = widgets.Button(description='Save')\n",
    "save_api_button.on_click(handle_api_key_input)"
   ]
  },
  {
   "cell_type": "code",
   "execution_count": 6,
   "id": "655b309a-9b3f-412f-bc4b-0b95677026e2",
   "metadata": {
    "tags": []
   },
   "outputs": [],
   "source": [
    "INITIAL_PROMPT = None\n",
    "\n",
    "def set_initial_prompt(name):\n",
    "    %sql drop table if exists my_data\n",
    "    %sql create table my_data as (select * from '{{name}}')\n",
    "    cols = %sqlcmd columns -t my_data\n",
    "    global INITIAL_PROMPT\n",
    "    INITIAL_PROMPT = f\"\"\"\n",
    "This is the schema for the my_data table:\n",
    "\n",
    "{cols}\n",
    "\n",
    "I'll start prompting you and I want you to return SQL code.\n",
    "\n",
    "If you're asked to plot a histogram, you can return: %sqlplot histogram NAME\n",
    "If you're asked to plot a boxplot, you can return: %sqlplot boxplot NAME\n",
    "\n",
    "And replace NAME with the column name, do not include the table  name\n",
    "\"\"\"\n",
    "    if not openai.api_key:\n",
    "        display(api_key_input)\n",
    "        display(save_api_button)\n",
    "    preview_data()"
   ]
  },
  {
   "cell_type": "code",
   "execution_count": 7,
   "id": "3809032b-3fc3-4777-b6d1-85ee4081527a",
   "metadata": {
    "tags": []
   },
   "outputs": [
    {
     "data": {
      "application/vnd.jupyter.widget-view+json": {
       "model_id": "64aa032c694a4b41a9ce389bc4bc9984",
       "version_major": 2,
       "version_minor": 0
      },
      "text/plain": [
       "FileUpload(value=(), accept='.csv', description='Upload')"
      ]
     },
     "metadata": {},
     "output_type": "display_data"
    }
   ],
   "source": [
    "# Create an upload button widget\n",
    "upload_button = widgets.FileUpload(\n",
    "    accept='.csv',  # Specify accepted file type(s)\n",
    "    multiple=False  # Allow only a single file to be uploaded\n",
    ")\n",
    "display(upload_button)\n",
    "\n",
    "# Create an output widget to display the status of the uploaded file\n",
    "upload_status_output = widgets.Output()\n",
    "\n",
    "# Define a function to handle file upload\n",
    "def handle_file_upload(change):\n",
    "    name = gen_name()\n",
    "\n",
    "    with upload_status_output:\n",
    "        clear_output()\n",
    "        uploaded_files = upload_button.value\n",
    "\n",
    "        if uploaded_files:\n",
    "            uploaded_file = uploaded_files[0]\n",
    "\n",
    "            with open(name, 'wb') as f:\n",
    "                f.write(uploaded_file['content'])\n",
    "            \n",
    "            set_initial_prompt(name)\n",
    "            \n",
    "            print(f'File has been uploaded and saved locally.')\n",
    "        else:\n",
    "            print('Please upload a CSV file.')\n",
    "\n",
    "# Attach the event handler to the upload button's change event\n",
    "upload_button.observe(handle_file_upload, names='value')"
   ]
  },
  {
   "cell_type": "code",
   "execution_count": 8,
   "id": "6a9222b7-629d-437d-82f6-974c7a8bbe11",
   "metadata": {
    "tags": []
   },
   "outputs": [
    {
     "data": {
      "application/vnd.jupyter.widget-view+json": {
       "model_id": "8dfcd367d303419982b311701cbd541f",
       "version_major": 2,
       "version_minor": 0
      },
      "text/plain": [
       "Button(description='Use sample data', style=ButtonStyle())"
      ]
     },
     "metadata": {},
     "output_type": "display_data"
    },
    {
     "data": {
      "application/vnd.jupyter.widget-view+json": {
       "model_id": "8ef5a07e10274189942b0fba92dce096",
       "version_major": 2,
       "version_minor": 0
      },
      "text/plain": [
       "Output()"
      ]
     },
     "metadata": {},
     "output_type": "display_data"
    }
   ],
   "source": [
    "# Create a button widget\n",
    "fetch_button = widgets.Button(description=\"Use sample data\")\n",
    "display(fetch_button)\n",
    "\n",
    "display(upload_status_output)\n",
    "\n",
    "# Define a function to fetch and store the data\n",
    "def download_sample(_):\n",
    "    name = gen_name()\n",
    "    with upload_status_output:\n",
    "        url = \"https://raw.githubusercontent.com/mwaskom/seaborn-data/master/penguins.csv\"\n",
    "        response = requests.get(url)\n",
    "    \n",
    "        if response.status_code == 200:\n",
    "            with open(name, \"wb\") as f:\n",
    "                f.write(response.content)\n",
    "            print(\"Data has been fetched and stored as data.csv.\")\n",
    "            set_initial_prompt(name)\n",
    "        else:\n",
    "            print(\"Failed to fetch the data. Check the URL and try again.\")\n",
    "\n",
    "# Attach the function to the button's click event\n",
    "fetch_button.on_click(download_sample)"
   ]
  },
  {
   "cell_type": "markdown",
   "id": "7db74776-209c-493b-ac0f-103a2d68c081",
   "metadata": {},
   "source": [
    "## 2. Ask questions"
   ]
  },
  {
   "cell_type": "code",
   "execution_count": 9,
   "id": "1a7d8142-7fa7-41ff-9995-805be1978772",
   "metadata": {
    "tags": []
   },
   "outputs": [],
   "source": [
    "import ipywidgets as widgets\n",
    "from IPython.display import display, clear_output\n",
    "\n",
    "def preview_data():\n",
    "    output = %sql select * from my_data limit 5\n",
    "\n",
    "    with chat_output:\n",
    "        print(\"These are the first 5 rows:\")\n",
    "        display(output)  \n",
    "\n",
    "def handle_submit_button(_):\n",
    "    if INITIAL_PROMPT is None:\n",
    "        with chat_output:\n",
    "            print(\"You must upload data first\")\n",
    "        return\n",
    "    \n",
    "    user_message = user_input.value\n",
    "    user_input.value = ''\n",
    "    \n",
    "    with chat_output:\n",
    "        print(f'You: {user_message}')\n",
    "    \n",
    "    command = chat_with_gpt3(user_message)\n",
    "    print(command)\n",
    "    \n",
    "\n",
    "    if command.startswith(\"%sqlplot\"):\n",
    "        _, name, column = command.split(\" \")\n",
    "        \n",
    "        fn_map = {\"histogram\": partial(histogram, bins=50),\n",
    "                  \"boxplot\": boxplot}\n",
    "        fn = fn_map[name]\n",
    "\n",
    "        with chat_output:\n",
    "            plt.show(fn(\"my_data\", column))\n",
    "    else:\n",
    "        sql_output = %sql {{command}}\n",
    "\n",
    "        with chat_output:\n",
    "            display(sql_output)\n",
    "\n",
    "# Define a function to handle user input when Enter is pressed\n",
    "def handle_enter_key(event):\n",
    "    if event['type'] == 'keydown' and event['key'] == 'Enter':\n",
    "        handle_submit_button(None)  # Call the submit function when Enter is pressed"
   ]
  },
  {
   "cell_type": "code",
   "execution_count": 10,
   "id": "f183152f-db26-4012-a1cf-55e055bcb082",
   "metadata": {},
   "outputs": [
    {
     "data": {
      "application/vnd.jupyter.widget-view+json": {
       "model_id": "9e9eddf49412405b9b82995b6a9ea550",
       "version_major": 2,
       "version_minor": 0
      },
      "text/plain": [
       "Output()"
      ]
     },
     "metadata": {},
     "output_type": "display_data"
    },
    {
     "name": "stderr",
     "output_type": "stream",
     "text": [
      "/var/folders/ff/jydfr9497jn4lqn28913mvwc0000gn/T/ipykernel_9405/162449828.py:11: DeprecationWarning: on_submit is deprecated. Instead, set the .continuous_update attribute to False and observe the value changing with: mywidget.observe(callback, 'value').\n",
      "  user_input.on_submit(handle_submit_button)\n"
     ]
    },
    {
     "data": {
      "application/vnd.jupyter.widget-view+json": {
       "model_id": "0a4c5f989bb1483c960c6acb8ad22927",
       "version_major": 2,
       "version_minor": 0
      },
      "text/plain": [
       "Text(value='', placeholder='Type your message...')"
      ]
     },
     "metadata": {},
     "output_type": "display_data"
    },
    {
     "data": {
      "application/vnd.jupyter.widget-view+json": {
       "model_id": "2c316c48b6044318b813ce895d9d12f7",
       "version_major": 2,
       "version_minor": 0
      },
      "text/plain": [
       "Button(description='Submit', style=ButtonStyle())"
      ]
     },
     "metadata": {},
     "output_type": "display_data"
    }
   ],
   "source": [
    "chat_disabled=False\n",
    "if not openai.api_key:\n",
    "    chat_disabled=True\n",
    "    \n",
    "# chat output\n",
    "chat_output = widgets.Output()\n",
    "display(chat_output)\n",
    "\n",
    "# text input\n",
    "user_input = widgets.Text(placeholder='Type your message...', disabled=chat_disabled)\n",
    "user_input.on_submit(handle_submit_button)\n",
    "display(user_input)\n",
    "\n",
    "# submit button\n",
    "submit_button = widgets.Button(description='Submit', disabled=chat_disabled)\n",
    "submit_button.on_click(handle_submit_button)\n",
    "display(submit_button)"
   ]
  },
  {
   "cell_type": "markdown",
   "id": "8daa144c-682e-480d-b32c-2cff226b9316",
   "metadata": {},
   "source": [
    "##### Powered by [Ploomber Cloud](https://www.platform.ploomber.io)"
   ]
  },
  {
   "cell_type": "code",
   "execution_count": 11,
   "id": "047d2eb3-302e-4f83-b9d0-eba7087767cf",
   "metadata": {},
   "outputs": [],
   "source": [
    "api_key_info = widgets.Textarea(\n",
    "    value=\"No OpenAI API key was found.\\nEnter your OpenAI API key when prompted while uploading data or using sample data.\\n\\nRefer the documentation for setting environment variable when deploying: https://docs.cloud.ploomber.io/en/latest/user-guide/env-vars.html.\",\n",
    "    placeholder='',\n",
    "    disabled=True,\n",
    "    layout={'height': '110px', 'width': '650px'}\n",
    "    )\n",
    "if not openai.api_key:\n",
    "    display(api_key_info)"
   ]
  }
 ],
 "metadata": {
  "kernelspec": {
   "display_name": "Python 3 (ipykernel)",
   "language": "python",
   "name": "python3"
  },
  "language_info": {
   "codemirror_mode": {
    "name": "ipython",
    "version": 3
   },
   "file_extension": ".py",
   "mimetype": "text/x-python",
   "name": "python",
   "nbconvert_exporter": "python",
   "pygments_lexer": "ipython3",
   "version": "3.11.6"
  }
 },
 "nbformat": 4,
 "nbformat_minor": 5
}
