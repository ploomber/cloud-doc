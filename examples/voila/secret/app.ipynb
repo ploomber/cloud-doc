{
 "cells": [
  {
   "cell_type": "code",
   "execution_count": 2,
   "id": "83a15137-3ea2-47d4-871a-382213ba046e",
   "metadata": {},
   "outputs": [],
   "source": [
    "from os import environ\n",
    "\n",
    "value = environ.get(\"SECRET\", None)"
   ]
  },
  {
   "cell_type": "code",
   "execution_count": 3,
   "id": "764d3d46-11fb-4689-bf2f-a8558205323f",
   "metadata": {},
   "outputs": [
    {
     "name": "stdout",
     "output_type": "stream",
     "text": [
      "ENV_VAR is undefined\n"
     ]
    }
   ],
   "source": [
    "if value is None:\n",
    "    print(\"SECRET is undefined\")\n",
    "else:\n",
    "    print(f\"SECRET: {value}\")"
   ]
  }
 ],
 "metadata": {
  "kernelspec": {
   "display_name": "Python 3.11.5 64-bit",
   "language": "python",
   "name": "python3"
  },
  "language_info": {
   "codemirror_mode": {
    "name": "ipython",
    "version": 3
   },
   "file_extension": ".py",
   "mimetype": "text/x-python",
   "name": "python",
   "nbconvert_exporter": "python",
   "pygments_lexer": "ipython3",
   "version": "3.11.5"
  },
  "vscode": {
   "interpreter": {
    "hash": "b0fa6594d8f4cbf19f97940f81e996739fb7646882a419484c72d19e05852a7e"
   }
  }
 },
 "nbformat": 4,
 "nbformat_minor": 5
}
