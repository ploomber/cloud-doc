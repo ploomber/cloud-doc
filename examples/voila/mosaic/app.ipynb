{
  "cells": [
    {
      "cell_type": "markdown",
      "metadata": {
        "id": "BkS3RA4KT0Lw"
      },
      "source": [
        "## Interactive data visualization\n",
        "\n",
        "This application uses [mosaic](https://uwdata.github.io/mosaic/) to display three linked visualizations.\n",
        "\n",
        "Data: [Cross-filter flights (10M)](https://uwdata.github.io/mosaic/examples/flights-10m.html#cross-filter-flights-10m).\n",
        "The dataset is a part of the [ASA Data Expo](https://community.amstat.org/jointscsg-section/dataexpo/dataexpo2009) dataset and consists of flight arrival and departure details for all commercial flights within the USA, from October 1987 to April 2008.\n",
        "\n",
        "Hosted in [Ploomber Cloud](https://ploomber.io/).\n",
        "\n",
        "How to use it: Select a histogram region to cross-filter the charts."
      ]
    },
    {
      "cell_type": "code",
      "execution_count": 9,
      "metadata": {
        "id": "-z5PyM-KT0L0"
      },
      "outputs": [],
      "source": [
        "%load_ext sql"
      ]
    },
    {
      "cell_type": "code",
      "execution_count": 5,
      "metadata": {
        "colab": {
          "base_uri": "https://localhost:8080/",
          "height": 58
        },
        "id": "iXSQlq9gT0L1",
        "outputId": "0b809f71-263d-4b2f-c7ce-bdd912f85fb2"
      },
      "outputs": [
        {
          "output_type": "stream",
          "name": "stdout",
          "text": [
            "Done.\n"
          ]
        },
        {
          "output_type": "execute_result",
          "data": {
            "text/plain": [
              "[]"
            ],
            "text/html": [
              "<table>\n",
              "    <thead>\n",
              "        <tr>\n",
              "            <th>Success</th>\n",
              "        </tr>\n",
              "    </thead>\n",
              "    <tbody>\n",
              "    </tbody>\n",
              "</table>"
            ]
          },
          "metadata": {},
          "execution_count": 5
        }
      ],
      "source": [
        "%%sql duckdb://\n",
        "INSTALL httpfs\n",
        "-- to avoid httpfs.duckdb_extension not found error"
      ]
    },
    {
      "cell_type": "code",
      "execution_count": 6,
      "metadata": {
        "id": "QFV0rB0lSbC_"
      },
      "outputs": [],
      "source": [
        "from mosaic_widget import MosaicWidget"
      ]
    },
    {
      "cell_type": "code",
      "execution_count": 7,
      "metadata": {
        "id": "cg6Hi0coSi_l"
      },
      "outputs": [],
      "source": [
        "spec = {\n",
        "  \"meta\": {\n",
        "    \"title\": \"Cross-Filter Flights (10M)\",\n",
        "    \"description\": \"Histograms showing arrival delay, departure time, and distance flown for 10 million flights.\\nOnce loaded, automatically-generated indexes enable efficient cross-filtered selections.\\n\\n_You may need to wait a few seconds for the dataset to load._\\n\"\n",
        "  },\n",
        "  \"data\": {\n",
        "    \"flights10m\": \"SELECT GREATEST(-60, LEAST(ARR_DELAY, 180))::DOUBLE AS delay, DISTANCE AS distance, DEP_TIME AS time FROM 'https://uwdata.github.io/mosaic-datasets/data/flights-10m.parquet'\"\n",
        "  },\n",
        "  \"params\": {\n",
        "    \"brush\": {\n",
        "      \"select\": \"crossfilter\"\n",
        "    }\n",
        "  },\n",
        "  \"vconcat\": [\n",
        "    {\n",
        "      \"plot\": [\n",
        "        {\n",
        "          \"mark\": \"rectY\",\n",
        "          \"data\": {\n",
        "            \"from\": \"flights10m\",\n",
        "            \"filterBy\": \"$brush\"\n",
        "          },\n",
        "          \"x\": {\n",
        "            \"bin\": \"delay\"\n",
        "          },\n",
        "          \"y\": {\n",
        "            \"count\": None\n",
        "          },\n",
        "          \"fill\": \"steelblue\",\n",
        "          \"inset\": 0.5\n",
        "        },\n",
        "        {\n",
        "          \"select\": \"intervalX\",\n",
        "          \"as\": \"$brush\"\n",
        "        }\n",
        "      ],\n",
        "      \"xDomain\": \"Fixed\",\n",
        "      \"marginLeft\": 75,\n",
        "      \"width\": 600,\n",
        "      \"height\": 200\n",
        "    },\n",
        "    {\n",
        "      \"plot\": [\n",
        "        {\n",
        "          \"mark\": \"rectY\",\n",
        "          \"data\": {\n",
        "            \"from\": \"flights10m\",\n",
        "            \"filterBy\": \"$brush\"\n",
        "          },\n",
        "          \"x\": {\n",
        "            \"bin\": \"time\"\n",
        "          },\n",
        "          \"y\": {\n",
        "            \"count\": None\n",
        "          },\n",
        "          \"fill\": \"steelblue\",\n",
        "          \"inset\": 0.5\n",
        "        },\n",
        "        {\n",
        "          \"select\": \"intervalX\",\n",
        "          \"as\": \"$brush\"\n",
        "        }\n",
        "      ],\n",
        "      \"xDomain\": \"Fixed\",\n",
        "      \"marginLeft\": 75,\n",
        "      \"width\": 600,\n",
        "      \"height\": 200\n",
        "    },\n",
        "    {\n",
        "      \"plot\": [\n",
        "        {\n",
        "          \"mark\": \"rectY\",\n",
        "          \"data\": {\n",
        "            \"from\": \"flights10m\",\n",
        "            \"filterBy\": \"$brush\"\n",
        "          },\n",
        "          \"x\": {\n",
        "            \"bin\": \"distance\"\n",
        "          },\n",
        "          \"y\": {\n",
        "            \"count\": None\n",
        "          },\n",
        "          \"fill\": \"steelblue\",\n",
        "          \"inset\": 0.5\n",
        "        },\n",
        "        {\n",
        "          \"select\": \"intervalX\",\n",
        "          \"as\": \"$brush\"\n",
        "        }\n",
        "      ],\n",
        "      \"xDomain\": \"Fixed\",\n",
        "      \"marginLeft\": 75,\n",
        "      \"width\": 600,\n",
        "      \"height\": 200\n",
        "    }\n",
        "  ]\n",
        "}"
      ]
    },
    {
      "cell_type": "markdown",
      "metadata": {
        "id": "7YHuf4ssT0L1"
      },
      "source": [
        "### Visualizations\n",
        "\n",
        "The visualizations consist of three histograms showing arrival delay, departure time, and distance flown for 10 million flights.\n",
        "\n",
        "- Arrival Delay Histogram: This histogram displays the distribution of flight delays. The x-axis represents the delay duration, and the y-axis represents the count of flights with delays falling into various bins.\n",
        "\n",
        "- Departure Time Histogram: This histogram shows the distribution of departure times. The x-axis represents the time of day, while the y-axis represents the count of flights departing at different times.\n",
        "\n",
        "- Distance Histogram: This histogram visualizes the distribution of flight distances. The x-axis represents the flight distance, and the y-axis represents the count of flights covering various distances.\n",
        "\n",
        "#### Cross-Filtering Interaction\n",
        "\n",
        "The plots are interactive and linked together through cross-filtering. Cross-filtering allows users to select a range or subset of data in one plot, and the other plots will update to reflect the filtered data. For example, if you select a specific range of delay times in one histogram, the other two histograms will adjust to show the corresponding distribution of departure times and distances for those filtered flights. Uses the Vega [crossfilter](https://vega.github.io/vega/docs/transforms/crossfilter/) transform to perform efficient incremental updates."
      ]
    },
    {
      "cell_type": "code",
      "execution_count": 10,
      "metadata": {
        "id": "qWXS5gPFTCZg"
      },
      "outputs": [],
      "source": [
        "# the widget will create a connection to an in-memory DuckDB database.\n",
        "# Reference: https://uwdata.github.io/mosaic/jupyter/\n",
        "\n",
        "MosaicWidget(spec)"
      ]
    }
  ],
  "metadata": {
    "colab": {
      "provenance": []
    },
    "kernelspec": {
      "display_name": "Python 3 (ipykernel)",
      "language": "python",
      "name": "python3"
    },
    "language_info": {
      "codemirror_mode": {
        "name": "ipython",
        "version": 3
      },
      "file_extension": ".py",
      "mimetype": "text/x-python",
      "name": "python",
      "nbconvert_exporter": "python",
      "pygments_lexer": "ipython3",
      "version": "3.10.1"
    },
    "varInspector": {
      "cols": {
        "lenName": 16,
        "lenType": 16,
        "lenVar": 40
      },
      "kernels_config": {
        "python": {
          "delete_cmd_postfix": "",
          "delete_cmd_prefix": "del ",
          "library": "var_list.py",
          "varRefreshCmd": "print(var_dic_list())"
        },
        "r": {
          "delete_cmd_postfix": ") ",
          "delete_cmd_prefix": "rm(",
          "library": "var_list.r",
          "varRefreshCmd": "cat(var_dic_list()) "
        }
      },
      "types_to_exclude": [
        "module",
        "function",
        "builtin_function_or_method",
        "instance",
        "_Feature"
      ],
      "window_display": false
    }
  },
  "nbformat": 4,
  "nbformat_minor": 0
}
