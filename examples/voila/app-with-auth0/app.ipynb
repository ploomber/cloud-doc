{
 "cells": [
  {
   "cell_type": "markdown",
   "id": "6e73d1d4-24fa-47d9-8a6c-a4a90d907a78",
   "metadata": {},
   "source": [
    "[Logout](/logout)"
   ]
  },
  {
   "cell_type": "code",
   "execution_count": null,
   "id": "e29f4edc-b36e-4304-a829-7d6e8c8c70ed",
   "metadata": {},
   "outputs": [],
   "source": [
    "import seaborn as sns\n",
    "import matplotlib.pyplot as plt\n",
    "df = sns.load_dataset('tips')\n",
    "sns.barplot(x = 'time',y = 'total_bill',data = df)\n",
    "plt.show()"
   ]
  }
 ],
 "metadata": {
  "kernelspec": {
   "display_name": "Python 3 (ipykernel)",
   "language": "python",
   "name": "python3"
  },
  "language_info": {
   "codemirror_mode": {
    "name": "ipython",
    "version": 3
   },
   "file_extension": ".py",
   "mimetype": "text/x-python",
   "name": "python",
   "nbconvert_exporter": "python",
   "pygments_lexer": "ipython3",
   "version": "3.10.1"
  }
 },
 "nbformat": 4,
 "nbformat_minor": 5
}
