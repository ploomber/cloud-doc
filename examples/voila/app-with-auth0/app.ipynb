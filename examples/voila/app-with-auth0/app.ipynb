{
 "cells": [
  {
   "cell_type": "code",
   "execution_count": null,
   "id": "8a5bbdea-f3f9-4e9b-a114-4bd14d2e94d4",
   "metadata": {},
   "outputs": [],
   "source": [
    "import nbformat\n",
    "\n",
    "# Load the notebook file\n",
    "with open(\"app_updated.ipynb\", \"r\", encoding=\"utf-8\") as f:\n",
    "    nb = nbformat.read(f, as_version=4)\n",
    "\n",
    "# Access the metadata\n",
    "user = nb.metadata['user']\n",
    "print(f\"Welcome: {user}\")"
   ]
  },
  {
   "cell_type": "markdown",
   "id": "6e73d1d4-24fa-47d9-8a6c-a4a90d907a78",
   "metadata": {},
   "source": [
    "[Logout](/logout)"
   ]
  },
  {
   "cell_type": "code",
   "execution_count": null,
   "id": "e29f4edc-b36e-4304-a829-7d6e8c8c70ed",
   "metadata": {},
   "outputs": [],
   "source": [
    "import seaborn as sns\n",
    "import matplotlib.pyplot as plt\n",
    "df = sns.load_dataset('tips')\n",
    "sns.barplot(x = 'time',y = 'total_bill',data = df)\n",
    "plt.show()"
   ]
  }
 ],
 "metadata": {
  "kernelspec": {
   "display_name": "Python 3 (ipykernel)",
   "language": "python",
   "name": "python3"
  },
  "language_info": {
   "codemirror_mode": {
    "name": "ipython",
    "version": 3
   },
   "file_extension": ".py",
   "mimetype": "text/x-python",
   "name": "python",
   "nbconvert_exporter": "python",
   "pygments_lexer": "ipython3",
   "version": "3.11.6"
  }
 },
 "nbformat": 4,
 "nbformat_minor": 5
}
