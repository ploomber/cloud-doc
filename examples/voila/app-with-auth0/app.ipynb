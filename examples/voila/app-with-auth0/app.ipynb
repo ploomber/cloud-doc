{
 "cells": [
  {
   "cell_type": "code",
   "execution_count": 1,
   "id": "2431a8d1-8f20-4045-883d-5912c7e45845",
   "metadata": {},
   "outputs": [
    {
     "name": "stdout",
     "output_type": "stream",
     "text": [
      "Welcome: Anonymous\n"
     ]
    }
   ],
   "source": [
    "import nbformat\n",
    "\n",
    "# Load the notebook file\n",
    "with open(\"app.ipynb\", \"r\", encoding=\"utf-8\") as f:\n",
    "    nb = nbformat.read(f, as_version=4)\n",
    "\n",
    "# Access the metadata\n",
    "user = nb.metadata['user']\n",
    "print(f\"Welcome: {user}\")"
   ]
  },
  {
   "cell_type": "markdown",
   "id": "bc4294b4-3b0d-474e-9bad-67da4a8241d5",
   "metadata": {},
   "source": [
    "[Logout](/logout)"
   ]
  },
  {
   "cell_type": "code",
   "execution_count": 4,
   "id": "8ca5e978-b05d-462a-9f6f-0fb9cf673f22",
   "metadata": {
    "editable": true,
    "slideshow": {
     "slide_type": ""
    },
    "tags": []
   },
   "outputs": [
    {
     "data": {
      "image/png": "[encoded data removed]",
      "text/plain": [
       "<Figure size 640x480 with 1 Axes>"
      ]
     },
     "metadata": {},
     "output_type": "display_data"
    }
   ],
   "source": [
    "import seaborn as sns\n",
    "import matplotlib.pyplot as plt\n",
    "df = sns.load_dataset('tips')\n",
    "sns.barplot(x = 'time',y = 'total_bill',data = df)\n",
    "plt.show()"
   ]
  }
 ],
 "metadata": {
  "headers": "Host: localhost:8866\nConnection: keep-alive\nSec-Ch-Ua: \"Chromium\";v=\"124\", \"Google Chrome\";v=\"124\", \"Not-A.Brand\";v=\"99\"\nSec-Ch-Ua-Mobile: ?0\nSec-Ch-Ua-Platform: \"macOS\"\nUpgrade-Insecure-Requests: 1\nUser-Agent: Mozilla/5.0 (Macintosh; Intel Mac OS X 10_15_7) AppleWebKit/537.36 (KHTML, like Gecko) Chrome/124.0.0.0 Safari/537.36\nAccept: text/html,application/xhtml+xml,application/xml;q=0.9,image/avif,image/webp,image/apng,*/*;q=0.8,application/signed-exchange;v=b3;q=0.7\nSec-Fetch-Site: cross-site\nSec-Fetch-Mode: navigate\nSec-Fetch-Dest: document\nAccept-Encoding: gzip, deflate, br, zstd\nAccept-Language: en-US,en;q=0.9,hi;q=0.8\nCookie: _ga=GA1.1.891151109.1712995955; next_url=\"/app\"; ajs_user_id=eae4a9b5-794b-59dd-b23d-80a223bd4426; ajs_anonymous_id=7bb0856a-8594-41a3-82b5-d31aef5f616b; username-localhost-8888=\"2|1:0|10:1713768670|23:username-localhost-8888|204:eyJ1c2VybmFtZSI6ICJmMzA0MTI5OGU1MWM0NzJhODg0ZTU2MjQwY2Q4OTNkYSIsICJuYW1lIjogIkFub255bW91cyBUaGVseGlub2UiLCAiZGlzcGxheV9uYW1lIjogIkFub255bW91cyBUaGVseGlub2UiLCAiaW5pdGlhbHMiOiAiQVQiLCAiY29sb3IiOiBudWxsfQ==|85918f144538cb8e06434e93123e1fd3f19396e3c315d421cdaacb6f7c207c17\"; _xsrf=2|e3edfe1f|a5ede864036ffd0c424ed106c0504c13|1713768670; solara-session-id=de98f34a-65df-40d7-a018-795fa6be140f; ph_some-posthog-key_posthog=%7B%22distinct_id%22%3A%22018f09bb-29bd-7ed9-bf5d-93f6452a9126%22%2C%22%24device_id%22%3A%22018f09bb-29bd-7ed9-bf5d-93f6452a9126%22%2C%22%24user_state%22%3A%22anonymous%22%2C%22%24user_id%22%3A%22018f09bb-29bd-7ed9-bf5d-93f6452a9126%22%2C%22%24sesid%22%3A%5B1714825598894%2C%22018f4391-ed61-7af6-9c09-765b1cb5149f%22%2C1714825588065%5D%2C%22%24client_session_props%22%3A%7B%22sessionId%22%3A%22018f4391-ed61-7af6-9c09-765b1cb5149f%22%2C%22props%22%3A%7B%22initialPathName%22%3A%22%2Fapplications%22%2C%22referringDomain%22%3A%22%24direct%22%7D%7D%7D; _ga_3EBJ127JJP=GS1.1.1715231491.30.0.1715231491.0.0.0; username-localhost-8867=\"2|1:0|10:1715667857|23:username-localhost-8867|204:eyJ1c2VybmFtZSI6ICJhNTJmNTRmZTE3ZDc0ZjVhYThkMWMwZWQ4NGEzZWU3ZSIsICJuYW1lIjogIkFub255bW91cyBNZWdhY2xpdGUiLCAiZGlzcGxheV9uYW1lIjogIkFub255bW91cyBNZWdhY2xpdGUiLCAiaW5pdGlhbHMiOiAiQU0iLCAiY29sb3IiOiBudWxsfQ==|650c2c84e50ab92fe6d0f7ffd9b98ae1ee4dce7e74a21d3bb77fccaf7de82bbe\"; username-localhost-8866=\"2|1:0|10:1715684747|23:username-localhost-8866|192:eyJ1c2VybmFtZSI6ICIwMzQ1MDBiZWU0ZTg0MjYzOGZlNjQ1NmE3Y2I1MWNmYyIsICJuYW1lIjogIkFub255bW91cyBNZXRpcyIsICJkaXNwbGF5X25hbWUiOiAiQW5vbnltb3VzIE1ldGlzIiwgImluaXRpYWxzIjogIkFNIiwgImNvbG9yIjogbnVsbH0=|c2cc8d2b494b3be8e3cac90dfb43dcd7da065492a076d18ea73ecbf4029a4dcc\"\n",
  "kernelspec": {
   "display_name": "Python 3 (ipykernel)",
   "language": "python",
   "name": "python3"
  },
  "language_info": {
   "codemirror_mode": {
    "name": "ipython",
    "version": 3
   },
   "file_extension": ".py",
   "mimetype": "text/x-python",
   "name": "python",
   "nbconvert_exporter": "python",
   "pygments_lexer": "ipython3",
   "version": "3.11.6"
  },
  "user": "Anonymous"
 },
 "nbformat": 4,
 "nbformat_minor": 5
}
