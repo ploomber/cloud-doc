{
 "cells": [
  {
   "cell_type": "markdown",
   "id": "f2002e48",
   "metadata": {},
   "source": [
    "# Classification\n",
    "\n",
    "In this example, we'll show how to use a model to predict values from your input.\n",
    "We are using the Penguins dataset. We'll ask you to input a few details to classify based on parameters such as bill and flipper size. The result will be the species of that specific penguin.\n"
   ]
  },
  {
   "cell_type": "code",
   "execution_count": 1,
   "id": "59cb8f7d-79c4-4f43-a11c-9c65f2b4f346",
   "metadata": {},
   "outputs": [],
   "source": [
    "# %pip install seaborn scikit-learn pandas sklearn-evaluation --quiet"
   ]
  },
  {
   "cell_type": "code",
   "execution_count": 2,
   "id": "936da177",
   "metadata": {
    "editable": true,
    "slideshow": {
     "slide_type": ""
    },
    "tags": []
   },
   "outputs": [
    {
     "data": {
      "text/html": [
       "\n",
       "<style>\n",
       ".output_png {\n",
       "    display: table-cell;\n",
       "    text-align: center;\n",
       "    vertical-align: middle;\n",
       "}\n",
       "</style>\n"
      ],
      "text/plain": [
       "<IPython.core.display.HTML object>"
      ]
     },
     "metadata": {},
     "output_type": "display_data"
    }
   ],
   "source": [
    "import pandas as pd\n",
    "import seaborn as sns\n",
    "from sklearn.preprocessing import LabelEncoder\n",
    "from sklearn.model_selection import train_test_split\n",
    "from sklearn.tree import DecisionTreeClassifier\n",
    "from sklearn.metrics import accuracy_score, classification_report\n",
    "from sklearn_evaluation import plot, table\n",
    "import ipywidgets as widgets\n",
    "from IPython.display import display, HTML\n",
    "\n",
    "# Center notebook\n",
    "display(HTML(\"\"\"\n",
    "<style>\n",
    ".output {\n",
    "    align-items: center;\n",
    "}\n",
    "</style>\n",
    "\"\"\"))\n",
    "\n",
    "# Based on\n",
    "# https://github.com/Adeyinka-hub/Machine-Learning-2/blob/master/Penguin%20Dataset.ipynb"
   ]
  },
  {
   "cell_type": "markdown",
   "id": "44f5520a",
   "metadata": {
    "editable": true,
    "slideshow": {
     "slide_type": ""
    },
    "tags": []
   },
   "source": [
    "## Sample our dataset\n",
    "Take a look on the actual data"
   ]
  },
  {
   "cell_type": "code",
   "execution_count": 3,
   "id": "7a35ff99",
   "metadata": {
    "editable": true,
    "slideshow": {
     "slide_type": ""
    },
    "tags": []
   },
   "outputs": [
    {
     "data": {
      "text/html": [
       "<div>\n",
       "<style scoped>\n",
       "    .dataframe tbody tr th:only-of-type {\n",
       "        vertical-align: middle;\n",
       "    }\n",
       "\n",
       "    .dataframe tbody tr th {\n",
       "        vertical-align: top;\n",
       "    }\n",
       "\n",
       "    .dataframe thead th {\n",
       "        text-align: right;\n",
       "    }\n",
       "</style>\n",
       "<table border=\"1\" class=\"dataframe\">\n",
       "  <thead>\n",
       "    <tr style=\"text-align: right;\">\n",
       "      <th></th>\n",
       "      <th>species</th>\n",
       "      <th>island</th>\n",
       "      <th>bill_length_mm</th>\n",
       "      <th>bill_depth_mm</th>\n",
       "      <th>flipper_length_mm</th>\n",
       "      <th>body_mass_g</th>\n",
       "      <th>sex</th>\n",
       "    </tr>\n",
       "  </thead>\n",
       "  <tbody>\n",
       "    <tr>\n",
       "      <th>0</th>\n",
       "      <td>Adelie</td>\n",
       "      <td>Torgersen</td>\n",
       "      <td>39.1</td>\n",
       "      <td>18.7</td>\n",
       "      <td>181.0</td>\n",
       "      <td>3750.0</td>\n",
       "      <td>Male</td>\n",
       "    </tr>\n",
       "    <tr>\n",
       "      <th>1</th>\n",
       "      <td>Adelie</td>\n",
       "      <td>Torgersen</td>\n",
       "      <td>39.5</td>\n",
       "      <td>17.4</td>\n",
       "      <td>186.0</td>\n",
       "      <td>3800.0</td>\n",
       "      <td>Female</td>\n",
       "    </tr>\n",
       "    <tr>\n",
       "      <th>2</th>\n",
       "      <td>Adelie</td>\n",
       "      <td>Torgersen</td>\n",
       "      <td>40.3</td>\n",
       "      <td>18.0</td>\n",
       "      <td>195.0</td>\n",
       "      <td>3250.0</td>\n",
       "      <td>Female</td>\n",
       "    </tr>\n",
       "    <tr>\n",
       "      <th>3</th>\n",
       "      <td>Adelie</td>\n",
       "      <td>Torgersen</td>\n",
       "      <td>NaN</td>\n",
       "      <td>NaN</td>\n",
       "      <td>NaN</td>\n",
       "      <td>NaN</td>\n",
       "      <td>NaN</td>\n",
       "    </tr>\n",
       "    <tr>\n",
       "      <th>4</th>\n",
       "      <td>Adelie</td>\n",
       "      <td>Torgersen</td>\n",
       "      <td>36.7</td>\n",
       "      <td>19.3</td>\n",
       "      <td>193.0</td>\n",
       "      <td>3450.0</td>\n",
       "      <td>Female</td>\n",
       "    </tr>\n",
       "  </tbody>\n",
       "</table>\n",
       "</div>"
      ],
      "text/plain": [
       "  species     island  bill_length_mm  bill_depth_mm  flipper_length_mm  \\\n",
       "0  Adelie  Torgersen            39.1           18.7              181.0   \n",
       "1  Adelie  Torgersen            39.5           17.4              186.0   \n",
       "2  Adelie  Torgersen            40.3           18.0              195.0   \n",
       "3  Adelie  Torgersen             NaN            NaN                NaN   \n",
       "4  Adelie  Torgersen            36.7           19.3              193.0   \n",
       "\n",
       "   body_mass_g     sex  \n",
       "0       3750.0    Male  \n",
       "1       3800.0  Female  \n",
       "2       3250.0  Female  \n",
       "3          NaN     NaN  \n",
       "4       3450.0  Female  "
      ]
     },
     "execution_count": 3,
     "metadata": {},
     "output_type": "execute_result"
    }
   ],
   "source": [
    "df = sns.load_dataset(\"penguins\")\n",
    "\n",
    "# Review a sample of the data\n",
    "df.head(5)"
   ]
  },
  {
   "cell_type": "code",
   "execution_count": 4,
   "id": "5ce0e664",
   "metadata": {
    "editable": true,
    "slideshow": {
     "slide_type": ""
    },
    "tags": []
   },
   "outputs": [],
   "source": [
    "#Data cleaning\n",
    "df.isnull().sum()\n",
    "df.dropna(inplace=True)\n",
    "Y = df.species\n",
    "Y = Y.map({\"Adelie\": 0, \"Chinstrap\": 1, \"Gentoo\": 2})\n",
    "df.drop(\"species\", inplace=True, axis=1)\n",
    "se = pd.get_dummies(df[\"sex\"], drop_first=True)\n",
    "df = pd.concat([df, se], axis=1)\n",
    "df.drop(\"sex\", axis=1, inplace=True)\n",
    "le = LabelEncoder()\n",
    "df[\"island\"] = le.fit_transform(df[\"island\"])\n",
    "df.drop([\"bill_depth_mm\", \"body_mass_g\", \"Male\"], inplace=True, axis=1)"
   ]
  },
  {
   "cell_type": "code",
   "execution_count": 5,
   "id": "502155ce",
   "metadata": {
    "editable": true,
    "slideshow": {
     "slide_type": ""
    },
    "tags": []
   },
   "outputs": [],
   "source": [
    "# Train the Decision Tree Classifier\n",
    "X = df\n",
    "X_train, X_test, y_train, y_test = train_test_split(\n",
    "    X, Y, test_size=0.3, random_state=40\n",
    ")"
   ]
  },
  {
   "cell_type": "code",
   "execution_count": 11,
   "id": "817a76f1-a051-48f4-8550-21d13b20d261",
   "metadata": {
    "editable": true,
    "scrolled": true,
    "slideshow": {
     "slide_type": ""
    },
    "tags": []
   },
   "outputs": [
    {
     "ename": "SyntaxError",
     "evalue": "invalid syntax (1195682862.py, line 1)",
     "output_type": "error",
     "traceback": [
      "\u001b[0;36m  Cell \u001b[0;32mIn[11], line 1\u001b[0;36m\u001b[0m\n\u001b[0;31m    <style type=\"text/css\">\u001b[0m\n\u001b[0m    ^\u001b[0m\n\u001b[0;31mSyntaxError\u001b[0m\u001b[0;31m:\u001b[0m invalid syntax\n"
     ]
    }
   ],
   "source": [
    "from IPython.display import Javascript\n",
    "# Create a button widget\n",
    "train_button = widgets.Button(description='Train Your Model')\n",
    "\n",
    "# Create an output area for displaying results\n",
    "train_output = widgets.Output()\n",
    "\n",
    "# Define a global variables\n",
    "global dt_model\n",
    "global y_pred_dt\n",
    "global dtc\n",
    "global run_eval\n",
    "global accuracy\n",
    "run_eval = False\n",
    "\n",
    "# Define a function to run the model and print accuracy\n",
    "def train_and_toggle_cells(train_button):\n",
    "    print(train_button)\n",
    "    global dt_model\n",
    "    global y_pred_dt\n",
    "    global dtc\n",
    "    global run_eval\n",
    "    global accuracy\n",
    "    \n",
    "    with train_output:\n",
    "        train_output.clear_output()  # Clear previous output\n",
    "        # Perform model training (replace this with your actual code)\n",
    "        dtc = DecisionTreeClassifier()\n",
    "        dt_model = dtc.fit(X_train, y_train)\n",
    "        y_pred_dt = dt_model.predict(X_test)\n",
    "        accuracy = dtc.score(X_test, y_test)\n",
    "        run_eval = True\n",
    "        print(\"Model is trained\")\n",
    "    # display(Javascript('IPython.notebook.execute_cells_below()'))\n",
    "\n",
    "# Associate the function with the button's click event\n",
    "train_button.on_click(train_and_toggle_cells)\n",
    "\n",
    "# Display the button and output area\n",
    "display(train_button, train_output)"
   ]
  },
  {
   "cell_type": "markdown",
   "id": "f41ce2c1-6788-4ec3-a0b6-ac6b24151464",
   "metadata": {
    "editable": true,
    "slideshow": {
     "slide_type": ""
    },
    "tags": []
   },
   "source": [
    "---"
   ]
  },
  {
   "cell_type": "markdown",
   "id": "daf9971e",
   "metadata": {
    "editable": true,
    "slideshow": {
     "slide_type": ""
    },
    "tags": []
   },
   "source": [
    "## Model evaluation merics\n",
    "\n",
    "In this section, we can easily evaluate our model via a confusion matrix, and understand which feature affects our accuracy by order of importance."
   ]
  },
  {
   "cell_type": "code",
   "execution_count": 8,
   "id": "4b153041-9725-4152-9e2a-e90cec2172da",
   "metadata": {
    "editable": true,
    "slideshow": {
     "slide_type": ""
    },
    "tags": []
   },
   "outputs": [
    {
     "data": {
      "application/vnd.jupyter.widget-view+json": {
       "model_id": "7039523d1cc041ada763565dc78760a6",
       "version_major": 2,
       "version_minor": 0
      },
      "text/plain": [
       "Button(description='Show model metrics', style=ButtonStyle())"
      ]
     },
     "metadata": {},
     "output_type": "display_data"
    },
    {
     "data": {
      "application/vnd.jupyter.widget-view+json": {
       "model_id": "3c2f00ed04cb456ab363cf44c74d325e",
       "version_major": 2,
       "version_minor": 0
      },
      "text/plain": [
       "Output()"
      ]
     },
     "metadata": {},
     "output_type": "display_data"
    }
   ],
   "source": [
    "metrics_output = widgets.Output()\n",
    "\n",
    "def show_model_metrics(mm):\n",
    "    with metrics_output:\n",
    "        metrics_output.clear_output()  # Clear previous output\n",
    "        print(\"Accuracy on test data: {:.3f}\".format(accuracy))\n",
    "        # plot.confusion_matrix(y_test, y_pred_dt)\n",
    "        # print(plot.feature_importances(dtc, top_n=5, feature_names=list(dtc.feature_names_in_)))\n",
    "        print(table.feature_importances(dtc, feature_names=list(dtc.feature_names_in_)))\n",
    "\n",
    "button = widgets.Button(description=\"Show model metrics\")\n",
    "button.on_click(show_model_metrics)\n",
    "display(button, metrics_output)"
   ]
  },
  {
   "cell_type": "markdown",
   "id": "376e5fee",
   "metadata": {
    "editable": true,
    "slideshow": {
     "slide_type": ""
    },
    "tags": []
   },
   "source": [
    "In addition to the accuracy, we can also represent the feature importance through a table which we can query with SQL. For more information, check our [tracking guide](https://sklearn-evaluation.ploomber.io/en/latest/api/SQLiteTracker.html)"
   ]
  },
  {
   "cell_type": "markdown",
   "id": "08213720-957b-4dc5-867f-f6dec89ebe41",
   "metadata": {
    "editable": true,
    "slideshow": {
     "slide_type": ""
    },
    "tags": []
   },
   "source": [
    "---"
   ]
  },
  {
   "cell_type": "markdown",
   "id": "6de82aec-3941-40e6-9679-e62e3ed68d9d",
   "metadata": {
    "editable": true,
    "slideshow": {
     "slide_type": ""
    },
    "tags": []
   },
   "source": [
    "### Use sample data or use your own\n",
    "The defaults in the form are part of a test dataset. You can predict your own penguin or check our model is working correctly."
   ]
  },
  {
   "cell_type": "code",
   "execution_count": 9,
   "id": "13c72c3b-971c-4eb2-a571-750b7ea1d58e",
   "metadata": {
    "editable": true,
    "slideshow": {
     "slide_type": ""
    },
    "tags": []
   },
   "outputs": [
    {
     "data": {
      "text/html": [
       "<style>\n",
       "    .widget-label { min-width: 20ex !important; }\n",
       "    \n",
       "    /* Center-align widgets within a container */\n",
       "    .widget-container { display: flex; justify-content: center; align-items: center; }\n",
       "        .widget-floattext { background-color: #f2f2f2; }\n",
       "\n",
       "\n",
       "</style>"
      ],
      "text/plain": [
       "<IPython.core.display.HTML object>"
      ]
     },
     "metadata": {},
     "output_type": "display_data"
    },
    {
     "data": {
      "application/vnd.jupyter.widget-view+json": {
       "model_id": "f2afbd0c9954449faeb00f0b90195b2b",
       "version_major": 2,
       "version_minor": 0
      },
      "text/plain": [
       "Dropdown(description='Island:', index=1, options=('Biscoe', 'Dream', 'Torgersen'), value='Dream')"
      ]
     },
     "metadata": {},
     "output_type": "display_data"
    },
    {
     "data": {
      "application/vnd.jupyter.widget-view+json": {
       "model_id": "ea4e3fe3a5b9487b8ca69d0475b0b985",
       "version_major": 2,
       "version_minor": 0
      },
      "text/plain": [
       "FloatText(value=46.7, description='Bill Length (mm):')"
      ]
     },
     "metadata": {},
     "output_type": "display_data"
    },
    {
     "data": {
      "application/vnd.jupyter.widget-view+json": {
       "model_id": "2f8bce062ba1401cb8f19b349280c43c",
       "version_major": 2,
       "version_minor": 0
      },
      "text/plain": [
       "FloatText(value=195.0, description='Flipper Length (mm):')"
      ]
     },
     "metadata": {},
     "output_type": "display_data"
    },
    {
     "data": {
      "application/vnd.jupyter.widget-view+json": {
       "model_id": "cab2b0236164459a83224509ee3dd0ef",
       "version_major": 2,
       "version_minor": 0
      },
      "text/plain": [
       "Button(description='Predict', style=ButtonStyle())"
      ]
     },
     "metadata": {},
     "output_type": "display_data"
    },
    {
     "data": {
      "application/vnd.jupyter.widget-view+json": {
       "model_id": "7f0d8dbcb8b042dda28b6040a6e178ea",
       "version_major": 2,
       "version_minor": 0
      },
      "text/plain": [
       "Output()"
      ]
     },
     "metadata": {},
     "output_type": "display_data"
    }
   ],
   "source": [
    "# Readable Mappings\n",
    "island_map = {\n",
    "    0: 'Biscoe',\n",
    "    1: 'Dream',\n",
    "    2: 'Torgersen',\n",
    "}\n",
    "\n",
    "reverse_island_map = {\n",
    "    'Biscoe': 0,\n",
    "    'Dream': 1,\n",
    "    'Torgersen': 2\n",
    "}\n",
    "\n",
    "species_map = {\n",
    "    0: 'Adelie',\n",
    "    1: 'Chinstrap',\n",
    "    2: 'Gentoo',\n",
    "}\n",
    "\n",
    "# Create input widgets for each column\n",
    "sample_data = X_test.iloc[0]\n",
    "common_layout = widgets.Layout(width='200px')  # Adjust the width as needed\n",
    "\n",
    "island_input = widgets.Dropdown(\n",
    "    options=['Biscoe', 'Dream', 'Torgersen'],\n",
    "    description='Island:',\n",
    "    value=island_map[sample_data[\"island\"]]\n",
    ")\n",
    "\n",
    "bill_length_input = widgets.FloatText(description='Bill Length (mm):', value=sample_data[\"bill_length_mm\"])\n",
    "flipper_length_input = widgets.FloatText(description='Flipper Length (mm):', value=sample_data[\"flipper_length_mm\"])\n",
    "\n",
    "# Styling the form labels width\n",
    "display(HTML('''<style>\n",
    "    .widget-label { min-width: 20ex !important; }\n",
    "    \n",
    "    /* Center-align widgets within a container */\n",
    "    .widget-container { display: flex; justify-content: center; align-items: center; }\n",
    "        .widget-floattext { background-color: #f2f2f2; }\n",
    "\n",
    "\n",
    "</style>'''))\n",
    "\n",
    "# Create a button for prediction\n",
    "predict_button = widgets.Button(description='Predict')\n",
    "\n",
    "# Create an output area for displaying predictions\n",
    "output = widgets.Output()\n",
    "        \n",
    "# Define a function to make predictions\n",
    "def predict_penguin(button):\n",
    "    print(button)\n",
    "    # Gather user inputs\n",
    "    input_data = {\n",
    "        'island': reverse_island_map[island_input.value],\n",
    "        'bill_length_mm': bill_length_input.value,\n",
    "        'flipper_length_mm': flipper_length_input.value\n",
    "    }\n",
    "\n",
    "    # Call your predict_with_decision_tree function (assuming you've defined it as in a previous response)\n",
    "    input_array = pd.DataFrame([input_data])\n",
    "    res = dt_model.predict(input_array)[0]\n",
    "\n",
    "    with output:\n",
    "        output.clear_output()\n",
    "        print(f'Predicted Penguin Species: {species_map[res]}')\n",
    "\n",
    "# Connect the button to the prediction function\n",
    "predict_button.on_click(predict_penguin)\n",
    "\n",
    "# Display the input form and output\n",
    "display(island_input, bill_length_input, flipper_length_input,\n",
    "        predict_button, output)"
   ]
  },
  {
   "cell_type": "markdown",
   "id": "df7b54e5-3ced-4eb0-b90c-b103c7f061c2",
   "metadata": {
    "editable": true,
    "slideshow": {
     "slide_type": ""
    },
    "tags": []
   },
   "source": [
    "#### Expected species with sample data:"
   ]
  },
  {
   "cell_type": "code",
   "execution_count": 10,
   "id": "f8630814-4240-4bd3-825d-a28c724f8606",
   "metadata": {
    "editable": true,
    "slideshow": {
     "slide_type": ""
    },
    "tags": [
     "model_evaluation"
    ]
   },
   "outputs": [
    {
     "name": "stdout",
     "output_type": "stream",
     "text": [
      "Expected Penguin Species: Chinstrap\n"
     ]
    }
   ],
   "source": [
    "print(f'Expected Penguin Species: {species_map[y_test.iloc[0]]}')"
   ]
  }
 ],
 "metadata": {
  "kernelspec": {
   "display_name": "Python 3 (ipykernel)",
   "language": "python",
   "name": "python3"
  },
  "language_info": {
   "codemirror_mode": {
    "name": "ipython",
    "version": 3
   },
   "file_extension": ".py",
   "mimetype": "text/x-python",
   "name": "python",
   "nbconvert_exporter": "python",
   "pygments_lexer": "ipython3",
   "version": "3.10.9"
  }
 },
 "nbformat": 4,
 "nbformat_minor": 5
}
