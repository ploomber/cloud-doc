{
 "cells": [
  {
   "cell_type": "markdown",
   "id": "75a610df-6dc6-432a-ad5c-502d992f6c22",
   "metadata": {},
   "source": [
    "# Caching OpenAI API calls\n",
    "\n",
    "This tutorial shows how to use `APICache` to cache calls to OpenAI's API. Subsequent calls with the same arguments will return the cached response.\n",
    "\n",
    "Supporting packge (`aiutils`) source [code available here.](https://github.com/ploomber/doc/blob/d5aba61f479be0afb42efa8925c81a497f9e54b1/aiutils/src/aiutils/cache.py#L16)\n",
    "\n",
    "\n",
    "Let's configure logging to ensure the cache is working."
   ]
  },
  {
   "cell_type": "code",
   "execution_count": 1,
   "id": "ce5a2206-0a9b-49a9-8711-bd8f6c17a47c",
   "metadata": {},
   "outputs": [],
   "source": [
    "import logging\n",
    "\n",
    "logging.basicConfig(level=logging.CRITICAL)\n",
    "aiutils_cache_logger = logging.getLogger('aiutils.cache')\n",
    "aiutils_cache_logger.setLevel(logging.INFO)"
   ]
  },
  {
   "cell_type": "markdown",
   "id": "1fd09553-b939-42ff-9f98-c19b1ce4a033",
   "metadata": {},
   "source": [
    "To start caching, pass the API function:"
   ]
  },
  {
   "cell_type": "code",
   "execution_count": 2,
   "id": "240f5973-161b-477f-8894-3b87c522a943",
   "metadata": {},
   "outputs": [],
   "source": [
    "from aiutils.cache import APICache\n",
    "from openai import OpenAI\n",
    "\n",
    "client = OpenAI()\n",
    "\n",
    "embeddings_create = APICache(client.embeddings.create)"
   ]
  },
  {
   "cell_type": "markdown",
   "id": "ac878edf-3d13-47fc-b87e-0087c424e142",
   "metadata": {},
   "source": [
    "Calls to `embeddings_create` will check the cache, if there is no cache, they will call the API and store the response. If there is a match, they'll return the cached response."
   ]
  },
  {
   "cell_type": "code",
   "execution_count": 4,
   "id": "06d802ac-9428-4bc7-b363-13e35afc2d00",
   "metadata": {},
   "outputs": [
    {
     "name": "stderr",
     "output_type": "stream",
     "text": [
      "INFO:aiutils.cache:Cache miss, calling API.\n"
     ]
    },
    {
     "data": {
      "text/plain": [
       "[-0.012787822633981705,\n",
       " 0.016391022130846977,\n",
       " 0.00927097536623478,\n",
       " -0.02223150059580803,\n",
       " -0.03259364143013954,\n",
       " -0.03322165086865425,\n",
       " 0.01840064860880375,\n",
       " 0.010150187648832798,\n",
       " 0.018793154507875443,\n",
       " -0.017584238201379776]"
      ]
     },
     "execution_count": 4,
     "metadata": {},
     "output_type": "execute_result"
    }
   ],
   "source": [
    "response = embeddings_create(input=\"some text\", model=\"text-embedding-3-small\")\n",
    "embedding = response.data[0].embedding\n",
    "embedding[:10]"
   ]
  },
  {
   "cell_type": "markdown",
   "id": "72869ce6-2355-468c-b860-afb2174992fa",
   "metadata": {},
   "source": [
    "This should now use the cache:"
   ]
  },
  {
   "cell_type": "code",
   "execution_count": 6,
   "id": "5a904258-4f71-41e7-8171-c29da115ec7b",
   "metadata": {},
   "outputs": [
    {
     "name": "stderr",
     "output_type": "stream",
     "text": [
      "INFO:aiutils.cache:Cache hit, using cached response.\n"
     ]
    }
   ],
   "source": [
    "_ = embeddings_create(input=\"some text\", model=\"text-embedding-3-small\")"
   ]
  },
  {
   "cell_type": "markdown",
   "id": "83397d7c-2b68-4065-9824-bc14c6088bd0",
   "metadata": {},
   "source": [
    "Changes to any of the arguments invalidate the cache:"
   ]
  },
  {
   "cell_type": "code",
   "execution_count": 7,
   "id": "cf23c2fe-7724-4de0-a2b5-dd97cbcc127d",
   "metadata": {},
   "outputs": [
    {
     "name": "stderr",
     "output_type": "stream",
     "text": [
      "INFO:aiutils.cache:Cache miss, calling API.\n"
     ]
    }
   ],
   "source": [
    "_ = embeddings_create(input=\"some text\", model=\"text-embedding-3-large\")"
   ]
  },
  {
   "cell_type": "code",
   "execution_count": 9,
   "id": "afe435ec-895b-45ef-9b6b-359347d06851",
   "metadata": {},
   "outputs": [
    {
     "name": "stderr",
     "output_type": "stream",
     "text": [
      "INFO:aiutils.cache:Cache hit, using cached response.\n"
     ]
    }
   ],
   "source": [
    "response = embeddings_create(\n",
    "    input=user_query,\n",
    "    model=\"text-embedding-3-small\")\n",
    "\n",
    "embedding_query = response.data[0].embedding"
   ]
  },
  {
   "cell_type": "markdown",
   "id": "ef8cc041-f2cf-4f68-a9b5-d432da12cecf",
   "metadata": {},
   "source": [
    "You can use any of the API functions, let's now use the completions API:"
   ]
  },
  {
   "cell_type": "code",
   "execution_count": 8,
   "id": "f4d755d1-d901-4d7e-b05c-4cf94ee79778",
   "metadata": {},
   "outputs": [
    {
     "name": "stderr",
     "output_type": "stream",
     "text": [
      "INFO:aiutils.cache:Cache miss, calling API.\n"
     ]
    }
   ],
   "source": [
    "completions_create = APICache(client.chat.completions.create)\n",
    "\n",
    "response = completions_create(\n",
    "  model=\"gpt-3.5-turbo-0125\",\n",
    "  messages=[\n",
    "    {\"role\": \"system\", \"content\": \"You're a helpful assistant\"},\n",
    "    {\"role\": \"user\", \"content\": \"Say hi!\"},\n",
    "  ])\n"
   ]
  },
  {
   "cell_type": "code",
   "execution_count": 11,
   "id": "dd10d4b6-87e8-4d84-85fa-32ca9a92041b",
   "metadata": {},
   "outputs": [
    {
     "data": {
      "text/plain": [
       "'Hello! How can I assist you today?'"
      ]
     },
     "execution_count": 11,
     "metadata": {},
     "output_type": "execute_result"
    }
   ],
   "source": [
    "response.choices[0].message.content"
   ]
  },
  {
   "cell_type": "code",
   "execution_count": 12,
   "id": "7e95cd8c-4f76-4a6d-8a1f-89137057f2e5",
   "metadata": {},
   "outputs": [
    {
     "name": "stderr",
     "output_type": "stream",
     "text": [
      "INFO:aiutils.cache:Cache hit, using cached response.\n"
     ]
    },
    {
     "data": {
      "text/plain": [
       "'Hello! How can I assist you today?'"
      ]
     },
     "execution_count": 12,
     "metadata": {},
     "output_type": "execute_result"
    }
   ],
   "source": [
    "response = completions_create(\n",
    "  model=\"gpt-3.5-turbo-0125\",\n",
    "  messages=[\n",
    "    {\"role\": \"system\", \"content\": \"You're a helpful assistant\"},\n",
    "    {\"role\": \"user\", \"content\": \"Say hi!\"},\n",
    "  ])\n",
    "\n",
    "response.choices[0].message.content"
   ]
  },
  {
   "cell_type": "markdown",
   "id": "04da95cd-ccac-4631-a149-39d504dab89d",
   "metadata": {},
   "source": [
    "## Exploring the data\n",
    "\n",
    "The data is stored in a SQLite database, you can explore it with SQL:"
   ]
  },
  {
   "cell_type": "code",
   "execution_count": 1,
   "id": "fb8bbb0c-f7a0-4514-ae3a-4981cc1461e5",
   "metadata": {},
   "outputs": [],
   "source": [
    "%load_ext sql"
   ]
  },
  {
   "cell_type": "code",
   "execution_count": 2,
   "id": "4a70d7ff-406c-458b-911f-ea0f71b4069b",
   "metadata": {},
   "outputs": [],
   "source": [
    "import sqlite3\n",
    "\n",
    "from aiutils import CACHE_PATH"
   ]
  },
  {
   "cell_type": "code",
   "execution_count": 3,
   "id": "ed11172d-f854-4511-8a08-5e0c409c91d3",
   "metadata": {},
   "outputs": [],
   "source": [
    "conn = sqlite3.connect(CACHE_PATH)"
   ]
  },
  {
   "cell_type": "code",
   "execution_count": 4,
   "id": "a172580a-4be7-4290-a3e0-6c0513c8e180",
   "metadata": {},
   "outputs": [],
   "source": [
    "%sql conn"
   ]
  },
  {
   "cell_type": "code",
   "execution_count": 5,
   "id": "c567c1cb-440a-4d81-9f5c-fca18c4598ff",
   "metadata": {},
   "outputs": [
    {
     "data": {
      "text/html": [
       "<span style=\"None\">Running query in &#x27;Connection&#x27;</span>"
      ],
      "text/plain": [
       "Running query in 'Connection'"
      ]
     },
     "metadata": {},
     "output_type": "display_data"
    },
    {
     "data": {
      "text/html": [
       "<table>\n",
       "    <thead>\n",
       "        <tr>\n",
       "            <th>COUNT(*)</th>\n",
       "        </tr>\n",
       "    </thead>\n",
       "    <tbody>\n",
       "        <tr>\n",
       "            <td>26</td>\n",
       "        </tr>\n",
       "    </tbody>\n",
       "</table>"
      ],
      "text/plain": [
       "+----------+\n",
       "| COUNT(*) |\n",
       "+----------+\n",
       "|    26    |\n",
       "+----------+"
      ]
     },
     "execution_count": 5,
     "metadata": {},
     "output_type": "execute_result"
    }
   ],
   "source": [
    "%%sql\n",
    "SELECT\n",
    "  COUNT(*)\n",
    "FROM\n",
    "  api_calls"
   ]
  },
  {
   "cell_type": "markdown",
   "id": "64aece75-d219-4959-8784-719b9d45e21d",
   "metadata": {},
   "source": [
    "`qualified_name` stores the function that was used:"
   ]
  },
  {
   "cell_type": "code",
   "execution_count": 6,
   "id": "43fe8c09-e31d-4a29-bc95-42b885863178",
   "metadata": {},
   "outputs": [
    {
     "data": {
      "text/html": [
       "<span style=\"None\">Running query in &#x27;Connection&#x27;</span>"
      ],
      "text/plain": [
       "Running query in 'Connection'"
      ]
     },
     "metadata": {},
     "output_type": "display_data"
    },
    {
     "data": {
      "text/html": [
       "<table>\n",
       "    <thead>\n",
       "        <tr>\n",
       "            <th>qualified_name</th>\n",
       "        </tr>\n",
       "    </thead>\n",
       "    <tbody>\n",
       "        <tr>\n",
       "            <td>openai.resources.embeddings.Embeddings.create</td>\n",
       "        </tr>\n",
       "        <tr>\n",
       "            <td>openai.resources.chat.completions.Completions.create</td>\n",
       "        </tr>\n",
       "    </tbody>\n",
       "</table>"
      ],
      "text/plain": [
       "+------------------------------------------------------+\n",
       "|                    qualified_name                    |\n",
       "+------------------------------------------------------+\n",
       "|    openai.resources.embeddings.Embeddings.create     |\n",
       "| openai.resources.chat.completions.Completions.create |\n",
       "+------------------------------------------------------+"
      ]
     },
     "execution_count": 6,
     "metadata": {},
     "output_type": "execute_result"
    }
   ],
   "source": [
    "%%sql\n",
    "SELECT DISTINCT\n",
    "  qualified_name\n",
    "FROM\n",
    "  api_calls"
   ]
  },
  {
   "cell_type": "markdown",
   "id": "a9126bcf-02ef-41c4-81f2-75bd50f3d62f",
   "metadata": {},
   "source": [
    "`kwargs` are the arguments used, you can use SQLite's JSON capabilities to manipulate the JSON string:"
   ]
  },
  {
   "cell_type": "code",
   "execution_count": 7,
   "id": "db5e528d-76ea-4729-bbbe-6885e93abdcd",
   "metadata": {},
   "outputs": [
    {
     "data": {
      "text/html": [
       "<span style=\"None\">Running query in &#x27;Connection&#x27;</span>"
      ],
      "text/plain": [
       "Running query in 'Connection'"
      ]
     },
     "metadata": {},
     "output_type": "display_data"
    },
    {
     "data": {
      "text/html": [
       "<table>\n",
       "    <thead>\n",
       "        <tr>\n",
       "            <th>model</th>\n",
       "        </tr>\n",
       "    </thead>\n",
       "    <tbody>\n",
       "        <tr>\n",
       "            <td>\"text-embedding-3-small\"</td>\n",
       "        </tr>\n",
       "        <tr>\n",
       "            <td>\"text-embedding-3-small\"</td>\n",
       "        </tr>\n",
       "    </tbody>\n",
       "</table>"
      ],
      "text/plain": [
       "+--------------------------+\n",
       "|          model           |\n",
       "+--------------------------+\n",
       "| \"text-embedding-3-small\" |\n",
       "| \"text-embedding-3-small\" |\n",
       "+--------------------------+"
      ]
     },
     "execution_count": 7,
     "metadata": {},
     "output_type": "execute_result"
    }
   ],
   "source": [
    "%%sql\n",
    "SELECT\n",
    "  kwargs -> '$.model' AS model\n",
    "FROM\n",
    "  api_calls\n",
    "LIMIT\n",
    "  2"
   ]
  },
  {
   "cell_type": "markdown",
   "id": "44ce3f18-eaee-412d-92d9-cb3cdbfe2f73",
   "metadata": {},
   "source": [
    "`response` stores the response from the API:"
   ]
  },
  {
   "cell_type": "code",
   "execution_count": 8,
   "id": "658b5a25-14b6-431e-8498-3b4869725ea8",
   "metadata": {},
   "outputs": [
    {
     "data": {
      "text/html": [
       "<span style=\"None\">Running query in &#x27;Connection&#x27;</span>"
      ],
      "text/plain": [
       "Running query in 'Connection'"
      ]
     },
     "metadata": {},
     "output_type": "display_data"
    },
    {
     "data": {
      "text/html": [
       "<table>\n",
       "    <thead>\n",
       "        <tr>\n",
       "            <th>content</th>\n",
       "        </tr>\n",
       "    </thead>\n",
       "    <tbody>\n",
       "        <tr>\n",
       "            <td>\"The AdamW optimizer was used to train this model.\"</td>\n",
       "        </tr>\n",
       "        <tr>\n",
       "            <td>\"Hello! How can I assist you today?\"</td>\n",
       "        </tr>\n",
       "    </tbody>\n",
       "</table>"
      ],
      "text/plain": [
       "+-----------------------------------------------------+\n",
       "|                       content                       |\n",
       "+-----------------------------------------------------+\n",
       "| \"The AdamW optimizer was used to train this model.\" |\n",
       "|         \"Hello! How can I assist you today?\"        |\n",
       "+-----------------------------------------------------+"
      ]
     },
     "execution_count": 8,
     "metadata": {},
     "output_type": "execute_result"
    }
   ],
   "source": [
    "%%sql\n",
    "SELECT\n",
    "  response -> '$.choices[0].message.content' AS content\n",
    "FROM\n",
    "  api_calls\n",
    "WHERE\n",
    "  content IS NOT NULL"
   ]
  }
 ],
 "metadata": {
  "kernelspec": {
   "display_name": "Python 3 (ipykernel)",
   "language": "python",
   "name": "python3"
  },
  "language_info": {
   "codemirror_mode": {
    "name": "ipython",
    "version": 3
   },
   "file_extension": ".py",
   "mimetype": "text/x-python",
   "name": "python",
   "nbconvert_exporter": "python",
   "pygments_lexer": "ipython3",
   "version": "3.11.7"
  }
 },
 "nbformat": 4,
 "nbformat_minor": 5
}
